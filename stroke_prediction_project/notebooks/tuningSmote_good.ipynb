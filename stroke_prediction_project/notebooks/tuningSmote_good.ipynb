{
 "cells": [
  {
   "cell_type": "code",
   "execution_count": 84,
   "metadata": {},
   "outputs": [],
   "source": [
    "import pandas as pd\n",
    "import numpy as np\n",
    "from sklearn.model_selection import train_test_split, cross_val_score, StratifiedKFold\n",
    "from sklearn.preprocessing import StandardScaler, OneHotEncoder\n",
    "from sklearn.impute import SimpleImputer\n",
    "from sklearn.compose import ColumnTransformer\n",
    "from sklearn.pipeline import Pipeline\n",
    "from sklearn.metrics import accuracy_score, precision_score, recall_score, f1_score, roc_auc_score, confusion_matrix, roc_curve\n",
    "from sklearn.linear_model import LogisticRegression\n",
    "from sklearn.ensemble import RandomForestClassifier\n",
    "from lightgbm import LGBMClassifier\n",
    "from xgboost import XGBClassifier\n",
    "from catboost import CatBoostClassifier\n",
    "from imblearn.over_sampling import SMOTE\n",
    "from imblearn.pipeline import Pipeline as ImbPipeline\n",
    "import matplotlib.pyplot as plt\n",
    "import optuna\n",
    "import pickle\n",
    "import joblib\n",
    "import mlflow\n",
    "import mlflow.sklearn\n",
    "import warnings\n",
    "warnings.filterwarnings('ignore')"
   ]
  },
  {
   "cell_type": "code",
   "execution_count": 85,
   "metadata": {},
   "outputs": [],
   "source": [
    "# Cargar los datos\n",
    "df = pd.read_csv('stroke_dataset.csv')"
   ]
  },
  {
   "cell_type": "code",
   "execution_count": 86,
   "metadata": {},
   "outputs": [],
   "source": [
    "# Define features\n",
    "cat_cols = ['gender', 'ever_married', 'work_type', 'Residence_type', 'smoking_status']\n",
    "num_cols = ['age', 'hypertension', 'heart_disease', 'avg_glucose_level', 'bmi']\n",
    "\n",
    "# Pre-processing\n",
    "preprocessor = ColumnTransformer(\n",
    "    transformers=[\n",
    "        ('num', StandardScaler(), num_cols),\n",
    "        ('cat', OneHotEncoder(handle_unknown='ignore'), cat_cols)\n",
    "    ])\n"
   ]
  },
  {
   "cell_type": "code",
   "execution_count": 87,
   "metadata": {},
   "outputs": [],
   "source": [
    "# Separar características y objetivo\n",
    "X = df[cat_cols + num_cols]\n",
    "y = df['stroke']"
   ]
  },
  {
   "cell_type": "code",
   "execution_count": 88,
   "metadata": {},
   "outputs": [],
   "source": [
    "# Dividir en conjuntos de entrenamiento y prueba\n",
    "X_train, X_test, y_train, y_test = train_test_split(X, y, test_size=0.2, random_state=42)"
   ]
  },
  {
   "cell_type": "code",
   "execution_count": 89,
   "metadata": {},
   "outputs": [],
   "source": [
    "# Función para crear el pipeline con SMOTE\n",
    "def create_pipeline(classifier):\n",
    "    return ImbPipeline([\n",
    "        ('preprocessor', preprocessor), # preprocesamiento\n",
    "        ('smote', SMOTE(random_state=42)), # Synthetic Minority Over-sampling Technique\n",
    "        ('classifier', classifier) # clasificador\n",
    "    ])"
   ]
  },
  {
   "cell_type": "code",
   "execution_count": 90,
   "metadata": {},
   "outputs": [],
   "source": [
    "# Función para evaluar el modelo\n",
    "def evaluate_model(y_true, y_pred, y_pred_proba):\n",
    "    return {\n",
    "        'accuracy': accuracy_score(y_true, y_pred),\n",
    "        'precision': precision_score(y_true, y_pred),\n",
    "        'recall': recall_score(y_true, y_pred),\n",
    "        'f1': f1_score(y_true, y_pred),\n",
    "        'auc': roc_auc_score(y_true, y_pred_proba)\n",
    "    }"
   ]
  },
  {
   "cell_type": "code",
   "execution_count": 91,
   "metadata": {},
   "outputs": [],
   "source": [
    "# Diccionario de modelos\n",
    "models = {\n",
    "    'Logistic Regression': LogisticRegression(),\n",
    "    'Random Forest': RandomForestClassifier(),\n",
    "    'LightGBM': LGBMClassifier(),\n",
    "    'XGBoost': XGBClassifier(),\n",
    "    'CatBoost': CatBoostClassifier(verbose=0)\n",
    "}"
   ]
  },
  {
   "cell_type": "code",
   "execution_count": 92,
   "metadata": {},
   "outputs": [
    {
     "name": "stderr",
     "output_type": "stream",
     "text": [
      "DEBUG:urllib3.connectionpool:Starting new HTTP connection (1): localhost:5000\n",
      "DEBUG:urllib3.connectionpool:http://localhost:5000 \"GET / HTTP/11\" 200 645\n",
      "DEBUG:urllib3.connectionpool:Resetting dropped connection: localhost\n"
     ]
    },
    {
     "name": "stdout",
     "output_type": "stream",
     "text": [
      "MLflow server is running.\n"
     ]
    },
    {
     "name": "stderr",
     "output_type": "stream",
     "text": [
      "DEBUG:urllib3.connectionpool:http://localhost:5000 \"POST /api/2.0/mlflow/runs/create HTTP/11\" 200 1006\n",
      "DEBUG:urllib3.connectionpool:Resetting dropped connection: localhost\n",
      "DEBUG:urllib3.connectionpool:http://localhost:5000 \"POST /api/2.0/mlflow/runs/log-batch HTTP/11\" 200 2\n",
      "DEBUG:urllib3.connectionpool:Resetting dropped connection: localhost\n",
      "DEBUG:urllib3.connectionpool:http://localhost:5000 \"POST /api/2.0/mlflow/runs/log-batch HTTP/11\" 200 2\n"
     ]
    },
    {
     "name": "stdout",
     "output_type": "stream",
     "text": [
      "Parameters logged successfully.\n",
      "Metrics logged for Logistic Regression.\n",
      "\n",
      "Logistic Regression:\n",
      "accuracy: 0.7462\n",
      "precision: 0.1509\n",
      "recall: 0.7963\n",
      "f1: 0.2537\n",
      "auc: 0.8481\n"
     ]
    },
    {
     "name": "stderr",
     "output_type": "stream",
     "text": [
      "DEBUG:urllib3.connectionpool:Resetting dropped connection: localhost\n",
      "DEBUG:urllib3.connectionpool:http://localhost:5000 \"POST /api/2.0/mlflow/runs/log-batch HTTP/11\" 400 254\n"
     ]
    },
    {
     "name": "stdout",
     "output_type": "stream",
     "text": [
      "Attempt 1 failed: INVALID_PARAMETER_VALUE: Changing param values is not allowed. Params were already logged='[{'key': 'model', 'old_value': 'Logistic Regression', 'new_value': 'Random Forest'}]' for run ID='ffc1aa1973bf4419bd85c87cce7601b4'.\n"
     ]
    },
    {
     "name": "stderr",
     "output_type": "stream",
     "text": [
      "DEBUG:urllib3.connectionpool:Resetting dropped connection: localhost\n",
      "DEBUG:urllib3.connectionpool:http://localhost:5000 \"POST /api/2.0/mlflow/runs/log-batch HTTP/11\" 400 254\n"
     ]
    },
    {
     "name": "stdout",
     "output_type": "stream",
     "text": [
      "Attempt 2 failed: INVALID_PARAMETER_VALUE: Changing param values is not allowed. Params were already logged='[{'key': 'model', 'old_value': 'Logistic Regression', 'new_value': 'Random Forest'}]' for run ID='ffc1aa1973bf4419bd85c87cce7601b4'.\n"
     ]
    },
    {
     "name": "stderr",
     "output_type": "stream",
     "text": [
      "DEBUG:urllib3.connectionpool:Resetting dropped connection: localhost\n",
      "DEBUG:urllib3.connectionpool:http://localhost:5000 \"POST /api/2.0/mlflow/runs/log-batch HTTP/11\" 400 254\n"
     ]
    },
    {
     "name": "stdout",
     "output_type": "stream",
     "text": [
      "Attempt 3 failed: INVALID_PARAMETER_VALUE: Changing param values is not allowed. Params were already logged='[{'key': 'model', 'old_value': 'Logistic Regression', 'new_value': 'Random Forest'}]' for run ID='ffc1aa1973bf4419bd85c87cce7601b4'.\n"
     ]
    },
    {
     "name": "stderr",
     "output_type": "stream",
     "text": [
      "DEBUG:urllib3.connectionpool:Resetting dropped connection: localhost\n",
      "DEBUG:urllib3.connectionpool:http://localhost:5000 \"POST /api/2.0/mlflow/runs/log-batch HTTP/11\" 400 254\n"
     ]
    },
    {
     "name": "stdout",
     "output_type": "stream",
     "text": [
      "Attempt 4 failed: INVALID_PARAMETER_VALUE: Changing param values is not allowed. Params were already logged='[{'key': 'model', 'old_value': 'Logistic Regression', 'new_value': 'Random Forest'}]' for run ID='ffc1aa1973bf4419bd85c87cce7601b4'.\n"
     ]
    },
    {
     "name": "stderr",
     "output_type": "stream",
     "text": [
      "DEBUG:urllib3.connectionpool:Resetting dropped connection: localhost\n",
      "DEBUG:urllib3.connectionpool:http://localhost:5000 \"POST /api/2.0/mlflow/runs/log-batch HTTP/11\" 400 254\n",
      "DEBUG:urllib3.connectionpool:Resetting dropped connection: localhost\n"
     ]
    },
    {
     "name": "stdout",
     "output_type": "stream",
     "text": [
      "Attempt 5 failed: INVALID_PARAMETER_VALUE: Changing param values is not allowed. Params were already logged='[{'key': 'model', 'old_value': 'Logistic Regression', 'new_value': 'Random Forest'}]' for run ID='ffc1aa1973bf4419bd85c87cce7601b4'.\n",
      "Max retries exceeded. Failed to log parameters.\n"
     ]
    },
    {
     "name": "stderr",
     "output_type": "stream",
     "text": [
      "DEBUG:urllib3.connectionpool:http://localhost:5000 \"POST /api/2.0/mlflow/runs/log-batch HTTP/11\" 200 2\n"
     ]
    },
    {
     "name": "stdout",
     "output_type": "stream",
     "text": [
      "Metrics logged for Random Forest.\n",
      "\n",
      "Random Forest:\n",
      "accuracy: 0.9117\n",
      "precision: 0.0526\n",
      "recall: 0.0370\n",
      "f1: 0.0435\n",
      "auc: 0.7659\n",
      "[LightGBM] [Info] Number of positive: 3790, number of negative: 3790\n",
      "[LightGBM] [Info] Auto-choosing col-wise multi-threading, the overhead of testing was 0.001418 seconds.\n",
      "You can set `force_col_wise=true` to remove the overhead.\n",
      "[LightGBM] [Info] Total Bins 4100\n",
      "[LightGBM] [Info] Number of data points in the train set: 7580, number of used features: 19\n",
      "[LightGBM] [Info] [binary:BoostFromScore]: pavg=0.500000 -> initscore=0.000000\n"
     ]
    },
    {
     "name": "stderr",
     "output_type": "stream",
     "text": [
      "DEBUG:urllib3.connectionpool:Resetting dropped connection: localhost\n",
      "DEBUG:urllib3.connectionpool:http://localhost:5000 \"POST /api/2.0/mlflow/runs/log-batch HTTP/11\" 400 249\n"
     ]
    },
    {
     "name": "stdout",
     "output_type": "stream",
     "text": [
      "Attempt 1 failed: INVALID_PARAMETER_VALUE: Changing param values is not allowed. Params were already logged='[{'key': 'model', 'old_value': 'Logistic Regression', 'new_value': 'LightGBM'}]' for run ID='ffc1aa1973bf4419bd85c87cce7601b4'.\n"
     ]
    },
    {
     "name": "stderr",
     "output_type": "stream",
     "text": [
      "DEBUG:urllib3.connectionpool:Resetting dropped connection: localhost\n",
      "DEBUG:urllib3.connectionpool:http://localhost:5000 \"POST /api/2.0/mlflow/runs/log-batch HTTP/11\" 400 249\n"
     ]
    },
    {
     "name": "stdout",
     "output_type": "stream",
     "text": [
      "Attempt 2 failed: INVALID_PARAMETER_VALUE: Changing param values is not allowed. Params were already logged='[{'key': 'model', 'old_value': 'Logistic Regression', 'new_value': 'LightGBM'}]' for run ID='ffc1aa1973bf4419bd85c87cce7601b4'.\n"
     ]
    },
    {
     "name": "stderr",
     "output_type": "stream",
     "text": [
      "DEBUG:urllib3.connectionpool:Resetting dropped connection: localhost\n",
      "DEBUG:urllib3.connectionpool:http://localhost:5000 \"POST /api/2.0/mlflow/runs/log-batch HTTP/11\" 400 249\n"
     ]
    },
    {
     "name": "stdout",
     "output_type": "stream",
     "text": [
      "Attempt 3 failed: INVALID_PARAMETER_VALUE: Changing param values is not allowed. Params were already logged='[{'key': 'model', 'old_value': 'Logistic Regression', 'new_value': 'LightGBM'}]' for run ID='ffc1aa1973bf4419bd85c87cce7601b4'.\n"
     ]
    },
    {
     "name": "stderr",
     "output_type": "stream",
     "text": [
      "DEBUG:urllib3.connectionpool:Resetting dropped connection: localhost\n",
      "DEBUG:urllib3.connectionpool:http://localhost:5000 \"POST /api/2.0/mlflow/runs/log-batch HTTP/11\" 400 249\n"
     ]
    },
    {
     "name": "stdout",
     "output_type": "stream",
     "text": [
      "Attempt 4 failed: INVALID_PARAMETER_VALUE: Changing param values is not allowed. Params were already logged='[{'key': 'model', 'old_value': 'Logistic Regression', 'new_value': 'LightGBM'}]' for run ID='ffc1aa1973bf4419bd85c87cce7601b4'.\n"
     ]
    },
    {
     "name": "stderr",
     "output_type": "stream",
     "text": [
      "DEBUG:urllib3.connectionpool:Resetting dropped connection: localhost\n",
      "DEBUG:urllib3.connectionpool:http://localhost:5000 \"POST /api/2.0/mlflow/runs/log-batch HTTP/11\" 400 249\n",
      "DEBUG:urllib3.connectionpool:Resetting dropped connection: localhost\n",
      "DEBUG:urllib3.connectionpool:http://localhost:5000 \"POST /api/2.0/mlflow/runs/log-batch HTTP/11\" 200 2\n"
     ]
    },
    {
     "name": "stdout",
     "output_type": "stream",
     "text": [
      "Attempt 5 failed: INVALID_PARAMETER_VALUE: Changing param values is not allowed. Params were already logged='[{'key': 'model', 'old_value': 'Logistic Regression', 'new_value': 'LightGBM'}]' for run ID='ffc1aa1973bf4419bd85c87cce7601b4'.\n",
      "Max retries exceeded. Failed to log parameters.\n",
      "Metrics logged for LightGBM.\n",
      "\n",
      "LightGBM:\n",
      "accuracy: 0.9107\n",
      "precision: 0.0513\n",
      "recall: 0.0370\n",
      "f1: 0.0430\n",
      "auc: 0.7765\n"
     ]
    },
    {
     "name": "stderr",
     "output_type": "stream",
     "text": [
      "DEBUG:urllib3.connectionpool:Resetting dropped connection: localhost\n",
      "DEBUG:urllib3.connectionpool:http://localhost:5000 \"POST /api/2.0/mlflow/runs/log-batch HTTP/11\" 400 248\n"
     ]
    },
    {
     "name": "stdout",
     "output_type": "stream",
     "text": [
      "Attempt 1 failed: INVALID_PARAMETER_VALUE: Changing param values is not allowed. Params were already logged='[{'key': 'model', 'old_value': 'Logistic Regression', 'new_value': 'XGBoost'}]' for run ID='ffc1aa1973bf4419bd85c87cce7601b4'.\n"
     ]
    },
    {
     "name": "stderr",
     "output_type": "stream",
     "text": [
      "DEBUG:urllib3.connectionpool:Resetting dropped connection: localhost\n",
      "DEBUG:urllib3.connectionpool:http://localhost:5000 \"POST /api/2.0/mlflow/runs/log-batch HTTP/11\" 400 248\n"
     ]
    },
    {
     "name": "stdout",
     "output_type": "stream",
     "text": [
      "Attempt 2 failed: INVALID_PARAMETER_VALUE: Changing param values is not allowed. Params were already logged='[{'key': 'model', 'old_value': 'Logistic Regression', 'new_value': 'XGBoost'}]' for run ID='ffc1aa1973bf4419bd85c87cce7601b4'.\n"
     ]
    },
    {
     "name": "stderr",
     "output_type": "stream",
     "text": [
      "DEBUG:urllib3.connectionpool:Resetting dropped connection: localhost\n",
      "DEBUG:urllib3.connectionpool:http://localhost:5000 \"POST /api/2.0/mlflow/runs/log-batch HTTP/11\" 400 248\n"
     ]
    },
    {
     "name": "stdout",
     "output_type": "stream",
     "text": [
      "Attempt 3 failed: INVALID_PARAMETER_VALUE: Changing param values is not allowed. Params were already logged='[{'key': 'model', 'old_value': 'Logistic Regression', 'new_value': 'XGBoost'}]' for run ID='ffc1aa1973bf4419bd85c87cce7601b4'.\n"
     ]
    },
    {
     "name": "stderr",
     "output_type": "stream",
     "text": [
      "DEBUG:urllib3.connectionpool:Resetting dropped connection: localhost\n",
      "DEBUG:urllib3.connectionpool:http://localhost:5000 \"POST /api/2.0/mlflow/runs/log-batch HTTP/11\" 400 248\n"
     ]
    },
    {
     "name": "stdout",
     "output_type": "stream",
     "text": [
      "Attempt 4 failed: INVALID_PARAMETER_VALUE: Changing param values is not allowed. Params were already logged='[{'key': 'model', 'old_value': 'Logistic Regression', 'new_value': 'XGBoost'}]' for run ID='ffc1aa1973bf4419bd85c87cce7601b4'.\n"
     ]
    },
    {
     "name": "stderr",
     "output_type": "stream",
     "text": [
      "DEBUG:urllib3.connectionpool:Resetting dropped connection: localhost\n",
      "DEBUG:urllib3.connectionpool:http://localhost:5000 \"POST /api/2.0/mlflow/runs/log-batch HTTP/11\" 400 248\n",
      "DEBUG:urllib3.connectionpool:Resetting dropped connection: localhost\n",
      "DEBUG:urllib3.connectionpool:http://localhost:5000 \"POST /api/2.0/mlflow/runs/log-batch HTTP/11\" 200 2\n"
     ]
    },
    {
     "name": "stdout",
     "output_type": "stream",
     "text": [
      "Attempt 5 failed: INVALID_PARAMETER_VALUE: Changing param values is not allowed. Params were already logged='[{'key': 'model', 'old_value': 'Logistic Regression', 'new_value': 'XGBoost'}]' for run ID='ffc1aa1973bf4419bd85c87cce7601b4'.\n",
      "Max retries exceeded. Failed to log parameters.\n",
      "Metrics logged for XGBoost.\n",
      "\n",
      "XGBoost:\n",
      "accuracy: 0.9147\n",
      "precision: 0.1220\n",
      "recall: 0.0926\n",
      "f1: 0.1053\n",
      "auc: 0.7722\n"
     ]
    },
    {
     "name": "stderr",
     "output_type": "stream",
     "text": [
      "DEBUG:urllib3.connectionpool:Resetting dropped connection: localhost\n",
      "DEBUG:urllib3.connectionpool:http://localhost:5000 \"POST /api/2.0/mlflow/runs/log-batch HTTP/11\" 400 249\n"
     ]
    },
    {
     "name": "stdout",
     "output_type": "stream",
     "text": [
      "Attempt 1 failed: INVALID_PARAMETER_VALUE: Changing param values is not allowed. Params were already logged='[{'key': 'model', 'old_value': 'Logistic Regression', 'new_value': 'CatBoost'}]' for run ID='ffc1aa1973bf4419bd85c87cce7601b4'.\n"
     ]
    },
    {
     "name": "stderr",
     "output_type": "stream",
     "text": [
      "DEBUG:urllib3.connectionpool:Resetting dropped connection: localhost\n",
      "DEBUG:urllib3.connectionpool:http://localhost:5000 \"POST /api/2.0/mlflow/runs/log-batch HTTP/11\" 400 249\n"
     ]
    },
    {
     "name": "stdout",
     "output_type": "stream",
     "text": [
      "Attempt 2 failed: INVALID_PARAMETER_VALUE: Changing param values is not allowed. Params were already logged='[{'key': 'model', 'old_value': 'Logistic Regression', 'new_value': 'CatBoost'}]' for run ID='ffc1aa1973bf4419bd85c87cce7601b4'.\n"
     ]
    },
    {
     "name": "stderr",
     "output_type": "stream",
     "text": [
      "DEBUG:urllib3.connectionpool:Resetting dropped connection: localhost\n",
      "DEBUG:urllib3.connectionpool:http://localhost:5000 \"POST /api/2.0/mlflow/runs/log-batch HTTP/11\" 400 249\n"
     ]
    },
    {
     "name": "stdout",
     "output_type": "stream",
     "text": [
      "Attempt 3 failed: INVALID_PARAMETER_VALUE: Changing param values is not allowed. Params were already logged='[{'key': 'model', 'old_value': 'Logistic Regression', 'new_value': 'CatBoost'}]' for run ID='ffc1aa1973bf4419bd85c87cce7601b4'.\n"
     ]
    },
    {
     "name": "stderr",
     "output_type": "stream",
     "text": [
      "DEBUG:urllib3.connectionpool:Resetting dropped connection: localhost\n",
      "DEBUG:urllib3.connectionpool:http://localhost:5000 \"POST /api/2.0/mlflow/runs/log-batch HTTP/11\" 400 249\n"
     ]
    },
    {
     "name": "stdout",
     "output_type": "stream",
     "text": [
      "Attempt 4 failed: INVALID_PARAMETER_VALUE: Changing param values is not allowed. Params were already logged='[{'key': 'model', 'old_value': 'Logistic Regression', 'new_value': 'CatBoost'}]' for run ID='ffc1aa1973bf4419bd85c87cce7601b4'.\n"
     ]
    },
    {
     "name": "stderr",
     "output_type": "stream",
     "text": [
      "DEBUG:urllib3.connectionpool:Resetting dropped connection: localhost\n",
      "DEBUG:urllib3.connectionpool:http://localhost:5000 \"POST /api/2.0/mlflow/runs/log-batch HTTP/11\" 400 249\n",
      "DEBUG:urllib3.connectionpool:Resetting dropped connection: localhost\n",
      "DEBUG:urllib3.connectionpool:http://localhost:5000 \"POST /api/2.0/mlflow/runs/log-batch HTTP/11\" 200 2\n",
      "DEBUG:urllib3.connectionpool:Resetting dropped connection: localhost\n",
      "DEBUG:urllib3.connectionpool:http://localhost:5000 \"GET /api/2.0/mlflow/runs/get?run_uuid=ffc1aa1973bf4419bd85c87cce7601b4&run_id=ffc1aa1973bf4419bd85c87cce7601b4 HTTP/11\" 200 1891\n",
      "2024/10/16 16:02:10 INFO mlflow.tracking._tracking_service.client: 🏃 View run clumsy-hog-56 at: http://localhost:5000/#/experiments/0/runs/ffc1aa1973bf4419bd85c87cce7601b4.\n",
      "2024/10/16 16:02:10 INFO mlflow.tracking._tracking_service.client: 🧪 View experiment at: http://localhost:5000/#/experiments/0.\n",
      "DEBUG:urllib3.connectionpool:Resetting dropped connection: localhost\n",
      "DEBUG:urllib3.connectionpool:http://localhost:5000 \"POST /api/2.0/mlflow/runs/update HTTP/11\" 200 504\n"
     ]
    },
    {
     "name": "stdout",
     "output_type": "stream",
     "text": [
      "Attempt 5 failed: INVALID_PARAMETER_VALUE: Changing param values is not allowed. Params were already logged='[{'key': 'model', 'old_value': 'Logistic Regression', 'new_value': 'CatBoost'}]' for run ID='ffc1aa1973bf4419bd85c87cce7601b4'.\n",
      "Max retries exceeded. Failed to log parameters.\n",
      "Metrics logged for CatBoost.\n",
      "\n",
      "CatBoost:\n",
      "accuracy: 0.9147\n",
      "precision: 0.0811\n",
      "recall: 0.0556\n",
      "f1: 0.0659\n",
      "auc: 0.7578\n",
      "\n",
      "Best model: Logistic Regression with AUC = 0.8481\n"
     ]
    }
   ],
   "source": [
    "# Entrenar y evaluar modelos\n",
    "results = {}\n",
    "best_model = None\n",
    "best_auc = 0\n",
    "\n",
    "for name, model in models.items():\n",
    "    pipeline = create_pipeline(model)\n",
    "    pipeline.fit(X_train, y_train)\n",
    "    y_pred = pipeline.predict(X_test)\n",
    "    y_pred_proba = pipeline.predict_proba(X_test)[:, 1]\n",
    "    \n",
    "    metrics = evaluate_model(y_test, y_pred, y_pred_proba)\n",
    "    results[name] = metrics\n",
    "    \n",
    "    print(f\"\\n{name}:\")\n",
    "    for metric, value in metrics.items():\n",
    "        print(f\"{metric}: {value:.4f}\")\n",
    "    \n",
    "    if metrics['auc'] > best_auc:\n",
    "        best_auc = metrics['auc']\n",
    "        best_model = (name, pipeline)\n",
    "\n",
    "print(f\"\\nBest model: {best_model[0]} with AUC = {best_auc:.4f}\")"
   ]
  },
  {
   "cell_type": "code",
   "execution_count": 93,
   "metadata": {},
   "outputs": [
    {
     "name": "stderr",
     "output_type": "stream",
     "text": [
      "[I 2024-10-16 16:02:10,135] A new study created in memory with name: no-name-ce655e4f-f7c1-4be8-afae-7c3328e95b6a\n",
      "[I 2024-10-16 16:02:10,363] Trial 0 finished with value: 0.8249221083966258 and parameters: {'solver': 'liblinear', 'penalty': 'l2', 'C': 0.0006162122050814462}. Best is trial 0 with value: 0.8249221083966258.\n",
      "[I 2024-10-16 16:02:10,654] Trial 1 finished with value: 0.8262787575799658 and parameters: {'solver': 'lbfgs', 'C': 0.43374950374887433}. Best is trial 1 with value: 0.8262787575799658.\n",
      "[I 2024-10-16 16:02:10,921] Trial 2 finished with value: 0.8259584673068912 and parameters: {'solver': 'lbfgs', 'C': 7.053656003434628}. Best is trial 1 with value: 0.8262787575799658.\n",
      "[I 2024-10-16 16:02:11,207] Trial 3 finished with value: 0.8259915823656971 and parameters: {'solver': 'liblinear', 'penalty': 'l2', 'C': 11.608053467410809}. Best is trial 1 with value: 0.8262787575799658.\n",
      "[I 2024-10-16 16:02:11,474] Trial 4 finished with value: 0.8259997721114232 and parameters: {'solver': 'lbfgs', 'C': 4.223961312281324}. Best is trial 1 with value: 0.8262787575799658.\n",
      "[I 2024-10-16 16:02:11,760] Trial 5 finished with value: 0.8262992319442812 and parameters: {'solver': 'lbfgs', 'C': 0.42467961529437703}. Best is trial 5 with value: 0.8262992319442812.\n",
      "[I 2024-10-16 16:02:12,035] Trial 6 finished with value: 0.8259244620583324 and parameters: {'solver': 'lbfgs', 'C': 1618.7476855083878}. Best is trial 5 with value: 0.8262992319442812.\n",
      "[I 2024-10-16 16:02:12,258] Trial 7 finished with value: 0.8165997243972525 and parameters: {'solver': 'lbfgs', 'C': 8.361274354875875e-05}. Best is trial 5 with value: 0.8262992319442812.\n",
      "[I 2024-10-16 16:02:12,536] Trial 8 finished with value: 0.8259445803467467 and parameters: {'solver': 'lbfgs', 'C': 21.1317384425896}. Best is trial 5 with value: 0.8262992319442812.\n",
      "[I 2024-10-16 16:02:12,805] Trial 9 finished with value: 0.8259709299634309 and parameters: {'solver': 'liblinear', 'penalty': 'l1', 'C': 2563.571892409957}. Best is trial 5 with value: 0.8262992319442812.\n",
      "[I 2024-10-16 16:02:13,067] Trial 10 finished with value: 0.8360174334761197 and parameters: {'solver': 'liblinear', 'penalty': 'l1', 'C': 0.02024132293130821}. Best is trial 10 with value: 0.8360174334761197.\n",
      "[I 2024-10-16 16:02:13,320] Trial 11 finished with value: 0.837664284518888 and parameters: {'solver': 'liblinear', 'penalty': 'l1', 'C': 0.012577651057967642}. Best is trial 11 with value: 0.837664284518888.\n",
      "[I 2024-10-16 16:02:13,564] Trial 12 finished with value: 0.8382539462111744 and parameters: {'solver': 'liblinear', 'penalty': 'l1', 'C': 0.006981276796381928}. Best is trial 12 with value: 0.8382539462111744.\n",
      "[I 2024-10-16 16:02:13,803] Trial 13 finished with value: 0.8376523559761999 and parameters: {'solver': 'liblinear', 'penalty': 'l1', 'C': 0.00519653807809067}. Best is trial 12 with value: 0.8382539462111744.\n",
      "[I 2024-10-16 16:02:14,012] Trial 14 finished with value: 0.5 and parameters: {'solver': 'liblinear', 'penalty': 'l1', 'C': 1.37537737898189e-05}. Best is trial 12 with value: 0.8382539462111744.\n",
      "[I 2024-10-16 16:02:14,278] Trial 15 finished with value: 0.8359225392484662 and parameters: {'solver': 'liblinear', 'penalty': 'l1', 'C': 0.020410541356387157}. Best is trial 12 with value: 0.8382539462111744.\n",
      "[I 2024-10-16 16:02:14,488] Trial 16 finished with value: 0.8321417253301714 and parameters: {'solver': 'liblinear', 'penalty': 'l1', 'C': 0.0008700185929780852}. Best is trial 12 with value: 0.8382539462111744.\n",
      "[I 2024-10-16 16:02:14,806] Trial 17 finished with value: 0.8301263357297242 and parameters: {'solver': 'liblinear', 'penalty': 'l1', 'C': 0.07325803688875333}. Best is trial 12 with value: 0.8382539462111744.\n",
      "[I 2024-10-16 16:02:15,099] Trial 18 finished with value: 0.8259641645213094 and parameters: {'solver': 'liblinear', 'penalty': 'l2', 'C': 160.36434118301287}. Best is trial 12 with value: 0.8382539462111744.\n",
      "[I 2024-10-16 16:02:15,318] Trial 19 finished with value: 0.8321417253301714 and parameters: {'solver': 'liblinear', 'penalty': 'l1', 'C': 0.0012670168021588196}. Best is trial 12 with value: 0.8382539462111744.\n",
      "[I 2024-10-16 16:02:15,606] Trial 20 finished with value: 0.8259709299634309 and parameters: {'solver': 'liblinear', 'penalty': 'l1', 'C': 35088.10121089692}. Best is trial 12 with value: 0.8382539462111744.\n",
      "[I 2024-10-16 16:02:15,841] Trial 21 finished with value: 0.8374150313880907 and parameters: {'solver': 'liblinear', 'penalty': 'l1', 'C': 0.004848501588256816}. Best is trial 12 with value: 0.8382539462111744.\n",
      "[I 2024-10-16 16:02:16,051] Trial 22 finished with value: 0.5 and parameters: {'solver': 'liblinear', 'penalty': 'l1', 'C': 0.00010167516894692216}. Best is trial 12 with value: 0.8382539462111744.\n",
      "[I 2024-10-16 16:02:16,424] Trial 23 finished with value: 0.8287184116166202 and parameters: {'solver': 'liblinear', 'penalty': 'l1', 'C': 0.14507218789497675}. Best is trial 12 with value: 0.8382539462111744.\n",
      "[I 2024-10-16 16:02:16,671] Trial 24 finished with value: 0.8380540095926848 and parameters: {'solver': 'liblinear', 'penalty': 'l1', 'C': 0.00886341146478486}. Best is trial 12 with value: 0.8382539462111744.\n",
      "[I 2024-10-16 16:02:16,930] Trial 25 finished with value: 0.8277724959852442 and parameters: {'solver': 'liblinear', 'penalty': 'l2', 'C': 0.02466004799767468}. Best is trial 12 with value: 0.8382539462111744.\n",
      "[I 2024-10-16 16:02:17,135] Trial 26 finished with value: 0.5 and parameters: {'solver': 'liblinear', 'penalty': 'l1', 'C': 9.72060500745306e-05}. Best is trial 12 with value: 0.8382539462111744.\n",
      "[I 2024-10-16 16:02:17,370] Trial 27 finished with value: 0.8362889413507384 and parameters: {'solver': 'liblinear', 'penalty': 'l1', 'C': 0.0037860778564961627}. Best is trial 12 with value: 0.8382539462111744.\n",
      "[I 2024-10-16 16:02:17,710] Trial 28 finished with value: 0.8296141205459356 and parameters: {'solver': 'liblinear', 'penalty': 'l1', 'C': 0.09381365693582809}. Best is trial 12 with value: 0.8382539462111744.\n",
      "[I 2024-10-16 16:02:17,942] Trial 29 finished with value: 0.8235928770576736 and parameters: {'solver': 'liblinear', 'penalty': 'l2', 'C': 0.00047689069288685623}. Best is trial 12 with value: 0.8382539462111744.\n",
      "[I 2024-10-16 16:02:18,764] Trial 30 finished with value: 0.826517328433729 and parameters: {'solver': 'liblinear', 'penalty': 'l1', 'C': 0.8447139492501601}. Best is trial 12 with value: 0.8382539462111744.\n",
      "[I 2024-10-16 16:02:19,002] Trial 31 finished with value: 0.8373610858890681 and parameters: {'solver': 'liblinear', 'penalty': 'l1', 'C': 0.004521836206570175}. Best is trial 12 with value: 0.8382539462111744.\n",
      "[I 2024-10-16 16:02:19,214] Trial 32 finished with value: 0.5 and parameters: {'solver': 'liblinear', 'penalty': 'l1', 'C': 0.00036951672760897217}. Best is trial 12 with value: 0.8382539462111744.\n",
      "[I 2024-10-16 16:02:19,458] Trial 33 finished with value: 0.838152820655251 and parameters: {'solver': 'liblinear', 'penalty': 'l1', 'C': 0.0061811659720289935}. Best is trial 12 with value: 0.8382539462111744.\n",
      "[I 2024-10-16 16:02:19,733] Trial 34 finished with value: 0.8337622267562553 and parameters: {'solver': 'liblinear', 'penalty': 'l1', 'C': 0.028765813150994156}. Best is trial 12 with value: 0.8382539462111744.\n",
      "[I 2024-10-16 16:02:20,225] Trial 35 finished with value: 0.8274692973554243 and parameters: {'solver': 'liblinear', 'penalty': 'l1', 'C': 0.3094723231821421}. Best is trial 12 with value: 0.8382539462111744.\n",
      "[I 2024-10-16 16:02:20,502] Trial 36 finished with value: 0.8260471302062748 and parameters: {'solver': 'lbfgs', 'C': 3.0528085332933004}. Best is trial 12 with value: 0.8382539462111744.\n",
      "[I 2024-10-16 16:02:20,702] Trial 37 finished with value: 0.5 and parameters: {'solver': 'liblinear', 'penalty': 'l1', 'C': 1.124621620926336e-05}. Best is trial 12 with value: 0.8382539462111744.\n",
      "[I 2024-10-16 16:02:20,937] Trial 38 finished with value: 0.8292429114189981 and parameters: {'solver': 'lbfgs', 'C': 0.002370813058806081}. Best is trial 12 with value: 0.8382539462111744.\n",
      "[I 2024-10-16 16:02:21,193] Trial 39 finished with value: 0.8286742582048788 and parameters: {'solver': 'liblinear', 'penalty': 'l2', 'C': 0.011395765068560257}. Best is trial 12 with value: 0.8382539462111744.\n",
      "[I 2024-10-16 16:02:21,476] Trial 40 finished with value: 0.8260882569728564 and parameters: {'solver': 'lbfgs', 'C': 1.7803988413092704}. Best is trial 12 with value: 0.8382539462111744.\n",
      "[I 2024-10-16 16:02:21,682] Trial 41 finished with value: 0.5 and parameters: {'solver': 'liblinear', 'penalty': 'l1', 'C': 0.00033272975837462507}. Best is trial 12 with value: 0.8382539462111744.\n",
      "[I 2024-10-16 16:02:21,930] Trial 42 finished with value: 0.838008075801438 and parameters: {'solver': 'liblinear', 'penalty': 'l1', 'C': 0.00907772365714496}. Best is trial 12 with value: 0.8382539462111744.\n",
      "[I 2024-10-16 16:02:22,279] Trial 43 finished with value: 0.8297376788836308 and parameters: {'solver': 'liblinear', 'penalty': 'l1', 'C': 0.08665134346789291}. Best is trial 12 with value: 0.8382539462111744.\n",
      "[I 2024-10-16 16:02:22,492] Trial 44 finished with value: 0.8321417253301714 and parameters: {'solver': 'liblinear', 'penalty': 'l1', 'C': 0.0016225744218006744}. Best is trial 12 with value: 0.8382539462111744.\n",
      "[I 2024-10-16 16:02:22,749] Trial 45 finished with value: 0.8373334900067299 and parameters: {'solver': 'liblinear', 'penalty': 'l1', 'C': 0.014063985576043797}. Best is trial 12 with value: 0.8382539462111744.\n",
      "[I 2024-10-16 16:02:23,072] Trial 46 finished with value: 0.8263802392117905 and parameters: {'solver': 'lbfgs', 'C': 0.2762979759152862}. Best is trial 12 with value: 0.8382539462111744.\n",
      "[I 2024-10-16 16:02:23,369] Trial 47 finished with value: 0.8259983478078187 and parameters: {'solver': 'liblinear', 'penalty': 'l2', 'C': 23.06621626412816}. Best is trial 12 with value: 0.8382539462111744.\n",
      "[I 2024-10-16 16:02:23,675] Trial 48 finished with value: 0.8322375097475778 and parameters: {'solver': 'liblinear', 'penalty': 'l1', 'C': 0.04350286685276375}. Best is trial 12 with value: 0.8382539462111744.\n",
      "[I 2024-10-16 16:02:23,927] Trial 49 finished with value: 0.8380146632056089 and parameters: {'solver': 'liblinear', 'penalty': 'l1', 'C': 0.00907478145529314}. Best is trial 12 with value: 0.8382539462111744.\n",
      "[I 2024-10-16 16:02:24,133] Trial 50 finished with value: 0.5 and parameters: {'solver': 'liblinear', 'penalty': 'l1', 'C': 0.00017951076842640188}. Best is trial 12 with value: 0.8382539462111744.\n",
      "[I 2024-10-16 16:02:24,332] Trial 51 finished with value: 0.5 and parameters: {'solver': 'liblinear', 'penalty': 'l1', 'C': 4.233931126086486e-05}. Best is trial 12 with value: 0.8382539462111744.\n",
      "[I 2024-10-16 16:02:24,585] Trial 52 finished with value: 0.8380947802833651 and parameters: {'solver': 'liblinear', 'penalty': 'l1', 'C': 0.01012676426838722}. Best is trial 12 with value: 0.8382539462111744.\n",
      "[I 2024-10-16 16:02:24,829] Trial 53 finished with value: 0.8381572716040152 and parameters: {'solver': 'liblinear', 'penalty': 'l1', 'C': 0.008665295455662615}. Best is trial 12 with value: 0.8382539462111744.\n",
      "[I 2024-10-16 16:02:25,039] Trial 54 finished with value: 0.8321417253301714 and parameters: {'solver': 'liblinear', 'penalty': 'l1', 'C': 0.001156741957047157}. Best is trial 12 with value: 0.8382539462111744.\n",
      "[I 2024-10-16 16:02:25,334] Trial 55 finished with value: 0.8322510406318211 and parameters: {'solver': 'liblinear', 'penalty': 'l1', 'C': 0.0434238496549004}. Best is trial 12 with value: 0.8382539462111744.\n",
      "[I 2024-10-16 16:02:25,581] Trial 56 finished with value: 0.8382952510157065 and parameters: {'solver': 'liblinear', 'penalty': 'l1', 'C': 0.00711021325386193}. Best is trial 56 with value: 0.8382952510157065.\n",
      "[I 2024-10-16 16:02:25,818] Trial 57 finished with value: 0.8291558508611695 and parameters: {'solver': 'lbfgs', 'C': 0.001977422321383611}. Best is trial 56 with value: 0.8382952510157065.\n",
      "[I 2024-10-16 16:02:26,031] Trial 58 finished with value: 0.8321417253301714 and parameters: {'solver': 'liblinear', 'penalty': 'l1', 'C': 0.0006687940146346515}. Best is trial 56 with value: 0.8382952510157065.\n",
      "[I 2024-10-16 16:02:26,262] Trial 59 finished with value: 0.8362219990813242 and parameters: {'solver': 'liblinear', 'penalty': 'l1', 'C': 0.0036954751010201026}. Best is trial 56 with value: 0.8382952510157065.\n",
      "[I 2024-10-16 16:02:26,531] Trial 60 finished with value: 0.8265794636784778 and parameters: {'solver': 'liblinear', 'penalty': 'l2', 'C': 0.17389399220525872}. Best is trial 56 with value: 0.8382952510157065.\n",
      "[I 2024-10-16 16:02:26,784] Trial 61 finished with value: 0.8380810713611714 and parameters: {'solver': 'liblinear', 'penalty': 'l1', 'C': 0.010641851457143905}. Best is trial 56 with value: 0.8382952510157065.\n",
      "[I 2024-10-16 16:02:27,080] Trial 62 finished with value: 0.8319654677591075 and parameters: {'solver': 'liblinear', 'penalty': 'l1', 'C': 0.04582149621850435}. Best is trial 56 with value: 0.8382952510157065.\n",
      "[I 2024-10-16 16:02:27,839] Trial 63 finished with value: 0.8265924604488692 and parameters: {'solver': 'liblinear', 'penalty': 'l1', 'C': 0.7083458029942774}. Best is trial 56 with value: 0.8382952510157065.\n",
      "[I 2024-10-16 16:02:28,092] Trial 64 finished with value: 0.8382462905792998 and parameters: {'solver': 'liblinear', 'penalty': 'l1', 'C': 0.00842364308532893}. Best is trial 56 with value: 0.8382952510157065.\n",
      "[I 2024-10-16 16:02:28,347] Trial 65 finished with value: 0.8374960386556 and parameters: {'solver': 'liblinear', 'penalty': 'l1', 'C': 0.005033085692322273}. Best is trial 56 with value: 0.8382952510157065.\n",
      "[I 2024-10-16 16:02:28,630] Trial 66 finished with value: 0.8366149288382312 and parameters: {'solver': 'liblinear', 'penalty': 'l1', 'C': 0.01824159638919423}. Best is trial 56 with value: 0.8382952510157065.\n",
      "[I 2024-10-16 16:02:28,879] Trial 67 finished with value: 0.8341993099249037 and parameters: {'solver': 'liblinear', 'penalty': 'l1', 'C': 0.002679348617262579}. Best is trial 56 with value: 0.8382952510157065.\n",
      "[I 2024-10-16 16:02:29,109] Trial 68 finished with value: 0.8321417253301714 and parameters: {'solver': 'liblinear', 'penalty': 'l1', 'C': 0.0008846304565877083}. Best is trial 56 with value: 0.8382952510157065.\n",
      "[I 2024-10-16 16:02:29,335] Trial 69 finished with value: 0.5 and parameters: {'solver': 'liblinear', 'penalty': 'l1', 'C': 2.906875286269524e-05}. Best is trial 56 with value: 0.8382952510157065.\n",
      "[I 2024-10-16 16:02:29,725] Trial 70 finished with value: 0.8289988213887671 and parameters: {'solver': 'liblinear', 'penalty': 'l1', 'C': 0.1221905781836258}. Best is trial 56 with value: 0.8382952510157065.\n",
      "[I 2024-10-16 16:02:29,967] Trial 71 finished with value: 0.8382060540024712 and parameters: {'solver': 'liblinear', 'penalty': 'l1', 'C': 0.006368450043485429}. Best is trial 56 with value: 0.8382952510157065.\n",
      "[I 2024-10-16 16:02:30,213] Trial 72 finished with value: 0.8383080697481475 and parameters: {'solver': 'liblinear', 'penalty': 'l1', 'C': 0.007806918341185968}. Best is trial 72 with value: 0.8383080697481475.\n",
      "[I 2024-10-16 16:02:30,429] Trial 73 finished with value: 0.5 and parameters: {'solver': 'liblinear', 'penalty': 'l1', 'C': 0.00023226290311938763}. Best is trial 72 with value: 0.8383080697481475.\n",
      "[I 2024-10-16 16:02:30,734] Trial 74 finished with value: 0.8336422291775716 and parameters: {'solver': 'liblinear', 'penalty': 'l1', 'C': 0.030629926064331646}. Best is trial 72 with value: 0.8383080697481475.\n",
      "[I 2024-10-16 16:02:31,001] Trial 75 finished with value: 0.8380780447160117 and parameters: {'solver': 'liblinear', 'penalty': 'l1', 'C': 0.0060448804609959435}. Best is trial 72 with value: 0.8383080697481475.\n",
      "[I 2024-10-16 16:02:31,258] Trial 76 finished with value: 0.8282309437079608 and parameters: {'solver': 'lbfgs', 'C': 0.0013176771624906587}. Best is trial 72 with value: 0.8383080697481475.\n",
      "[I 2024-10-16 16:02:31,534] Trial 77 finished with value: 0.8268881814847653 and parameters: {'solver': 'liblinear', 'penalty': 'l2', 'C': 0.06617432048353522}. Best is trial 72 with value: 0.8383080697481475.\n",
      "[I 2024-10-16 16:02:31,807] Trial 78 finished with value: 0.8355543567666885 and parameters: {'solver': 'liblinear', 'penalty': 'l1', 'C': 0.021485648635383752}. Best is trial 72 with value: 0.8383080697481475.\n",
      "[I 2024-10-16 16:02:32,038] Trial 79 finished with value: 0.8335327358379712 and parameters: {'solver': 'liblinear', 'penalty': 'l1', 'C': 0.0024284417877124403}. Best is trial 72 with value: 0.8383080697481475.\n",
      "[I 2024-10-16 16:02:32,286] Trial 80 finished with value: 0.8381866478658591 and parameters: {'solver': 'liblinear', 'penalty': 'l1', 'C': 0.006146665275064972}. Best is trial 72 with value: 0.8383080697481475.\n",
      "[I 2024-10-16 16:02:32,525] Trial 81 finished with value: 0.8381861137520075 and parameters: {'solver': 'liblinear', 'penalty': 'l1', 'C': 0.006326036865548793}. Best is trial 72 with value: 0.8383080697481475.\n",
      "[I 2024-10-16 16:02:32,774] Trial 82 finished with value: 0.838022496875434 and parameters: {'solver': 'liblinear', 'penalty': 'l1', 'C': 0.005858367110655251}. Best is trial 72 with value: 0.8383080697481475.\n",
      "[I 2024-10-16 16:02:33,056] Trial 83 finished with value: 0.8321417253301714 and parameters: {'solver': 'liblinear', 'penalty': 'l1', 'C': 0.0006788214984323329}. Best is trial 72 with value: 0.8383080697481475.\n",
      "[I 2024-10-16 16:02:33,333] Trial 84 finished with value: 0.8259709299634309 and parameters: {'solver': 'liblinear', 'penalty': 'l1', 'C': 66122.77504515642}. Best is trial 72 with value: 0.8383080697481475.\n",
      "[I 2024-10-16 16:02:33,565] Trial 85 finished with value: 0.8348413147746575 and parameters: {'solver': 'liblinear', 'penalty': 'l1', 'C': 0.003036174297428923}. Best is trial 72 with value: 0.8383080697481475.\n",
      "[I 2024-10-16 16:02:33,836] Trial 86 finished with value: 0.8366895267395197 and parameters: {'solver': 'liblinear', 'penalty': 'l1', 'C': 0.018093050397781682}. Best is trial 72 with value: 0.8383080697481475.\n",
      "[I 2024-10-16 16:02:34,084] Trial 87 finished with value: 0.8382881294976837 and parameters: {'solver': 'liblinear', 'penalty': 'l1', 'C': 0.0068993994476915415}. Best is trial 72 with value: 0.8383080697481475.\n",
      "[I 2024-10-16 16:02:34,370] Trial 88 finished with value: 0.8259244620583324 and parameters: {'solver': 'lbfgs', 'C': 316.83723782132114}. Best is trial 72 with value: 0.8383080697481475.\n",
      "[I 2024-10-16 16:02:34,650] Trial 89 finished with value: 0.8336012804489406 and parameters: {'solver': 'liblinear', 'penalty': 'l1', 'C': 0.030557348487335247}. Best is trial 72 with value: 0.8383080697481475.\n",
      "[I 2024-10-16 16:02:34,892] Trial 90 finished with value: 0.828847133054882 and parameters: {'solver': 'liblinear', 'penalty': 'l2', 'C': 0.0016479709889209342}. Best is trial 72 with value: 0.8383080697481475.\n",
      "[I 2024-10-16 16:02:35,136] Trial 91 finished with value: 0.8381998226742013 and parameters: {'solver': 'liblinear', 'penalty': 'l1', 'C': 0.006304480767520143}. Best is trial 72 with value: 0.8383080697481475.\n",
      "[I 2024-10-16 16:02:35,392] Trial 92 finished with value: 0.8375113499193487 and parameters: {'solver': 'liblinear', 'penalty': 'l1', 'C': 0.01357803550284872}. Best is trial 72 with value: 0.8383080697481475.\n",
      "[I 2024-10-16 16:02:35,643] Trial 93 finished with value: 0.8382537681732238 and parameters: {'solver': 'liblinear', 'penalty': 'l1', 'C': 0.00657292831040329}. Best is trial 72 with value: 0.8383080697481475.\n",
      "[I 2024-10-16 16:02:35,894] Trial 94 finished with value: 0.8363635392520269 and parameters: {'solver': 'liblinear', 'penalty': 'l1', 'C': 0.0038412408400658625}. Best is trial 72 with value: 0.8383080697481475.\n",
      "[I 2024-10-16 16:02:36,140] Trial 95 finished with value: 0.8383700269549458 and parameters: {'solver': 'liblinear', 'penalty': 'l1', 'C': 0.007400050705590661}. Best is trial 95 with value: 0.8383700269549458.\n",
      "[I 2024-10-16 16:02:36,350] Trial 96 finished with value: 0.5 and parameters: {'solver': 'liblinear', 'penalty': 'l1', 'C': 0.00048086955648376497}. Best is trial 95 with value: 0.8383700269549458.\n",
      "[I 2024-10-16 16:02:36,654] Trial 97 finished with value: 0.8311119538240771 and parameters: {'solver': 'liblinear', 'penalty': 'l1', 'C': 0.057125552210876084}. Best is trial 95 with value: 0.8383700269549458.\n",
      "[I 2024-10-16 16:02:37,046] Trial 98 finished with value: 0.8284242929222794 and parameters: {'solver': 'liblinear', 'penalty': 'l1', 'C': 0.1806124750806616}. Best is trial 95 with value: 0.8383700269549458.\n",
      "[I 2024-10-16 16:02:37,262] Trial 99 finished with value: 0.8321417253301714 and parameters: {'solver': 'liblinear', 'penalty': 'l1', 'C': 0.001046723170012654}. Best is trial 95 with value: 0.8383700269549458.\n"
     ]
    }
   ],
   "source": [
    "# Optimización de hiperparámetros con Optuna\n",
    "def objective(trial):\n",
    "    if best_model[0] == 'Logistic Regression':\n",
    "        solver = trial.suggest_categorical('solver', ['lbfgs', 'liblinear'])\n",
    "        \n",
    "        # Asegurar que la penalización es compatible con el solver\n",
    "        if solver == 'liblinear':\n",
    "            penalty = trial.suggest_categorical('penalty', ['l1', 'l2'])\n",
    "        else:\n",
    "            penalty = 'l2'  # lbfgs solo soporta 'l2' o None\n",
    "        \n",
    "        classifier = LogisticRegression(\n",
    "            C=trial.suggest_loguniform('C', 1e-5, 1e5),\n",
    "            solver=solver,\n",
    "            penalty=penalty,\n",
    "            random_state=42\n",
    "        )\n",
    "    elif best_model[0] == 'Random Forest':\n",
    "        classifier = RandomForestClassifier(\n",
    "            n_estimators=trial.suggest_int('n_estimators', 10, 1000),\n",
    "            max_depth=trial.suggest_int('max_depth', 2, 32),\n",
    "            min_samples_split=trial.suggest_int('min_samples_split', 2, 20),\n",
    "            min_samples_leaf=trial.suggest_int('min_samples_leaf', 1, 20)\n",
    "        )\n",
    "    elif best_model[0] == 'LightGBM':\n",
    "        classifier = LGBMClassifier(\n",
    "            num_leaves=trial.suggest_int('num_leaves', 2, 256),\n",
    "            max_depth=trial.suggest_int('max_depth', 3, 16),\n",
    "            learning_rate=trial.suggest_loguniform('learning_rate', 1e-8, 1.0),\n",
    "            n_estimators=trial.suggest_int('n_estimators', 100, 1000)\n",
    "        )\n",
    "    elif best_model[0] == 'XGBoost':\n",
    "        classifier = XGBClassifier(\n",
    "            max_depth=trial.suggest_int('max_depth', 1, 9),\n",
    "            learning_rate=trial.suggest_loguniform('learning_rate', 1e-8, 1.0),\n",
    "            n_estimators=trial.suggest_int('n_estimators', 100, 1000),\n",
    "            min_child_weight=trial.suggest_int('min_child_weight', 1, 300)\n",
    "        )\n",
    "    else:  # CatBoost\n",
    "        classifier = CatBoostClassifier(\n",
    "            iterations=trial.suggest_int('iterations', 100, 1000),\n",
    "            depth=trial.suggest_int('depth', 4, 10),\n",
    "            learning_rate=trial.suggest_loguniform('learning_rate', 1e-8, 1.0),\n",
    "            l2_leaf_reg=trial.suggest_loguniform('l2_leaf_reg', 1e-8, 100),\n",
    "            verbose=0\n",
    "        )\n",
    "    \n",
    "    pipeline = create_pipeline(classifier)\n",
    "    \n",
    "# Configuración de StratifiedKFold\n",
    "    skf = StratifiedKFold(n_splits=5, shuffle=True, random_state=42)\n",
    "    auc_scores = []\n",
    "    \n",
    "    for train_index, val_index in skf.split(X_train, y_train):\n",
    "        # Uso de iloc para obtener las filas correctas\n",
    "        X_train_fold, X_val_fold = X_train.iloc[train_index], X_train.iloc[val_index]\n",
    "        y_train_fold, y_val_fold = y_train.iloc[train_index], y_train.iloc[val_index]\n",
    "        \n",
    "        pipeline.fit(X_train_fold, y_train_fold)\n",
    "        y_val_pred_proba = pipeline.predict_proba(X_val_fold)[:, 1]\n",
    "        \n",
    "        auc = roc_auc_score(y_val_fold, y_val_pred_proba)\n",
    "        auc_scores.append(auc)\n",
    "    \n",
    "    return np.mean(auc_scores)\n",
    "\n",
    "study = optuna.create_study(direction='maximize')\n",
    "study.optimize(objective, n_trials=100)"
   ]
  },
  {
   "cell_type": "code",
   "execution_count": 94,
   "metadata": {},
   "outputs": [
    {
     "data": {
      "text/html": [
       "<style>#sk-container-id-3 {\n",
       "  /* Definition of color scheme common for light and dark mode */\n",
       "  --sklearn-color-text: black;\n",
       "  --sklearn-color-line: gray;\n",
       "  /* Definition of color scheme for unfitted estimators */\n",
       "  --sklearn-color-unfitted-level-0: #fff5e6;\n",
       "  --sklearn-color-unfitted-level-1: #f6e4d2;\n",
       "  --sklearn-color-unfitted-level-2: #ffe0b3;\n",
       "  --sklearn-color-unfitted-level-3: chocolate;\n",
       "  /* Definition of color scheme for fitted estimators */\n",
       "  --sklearn-color-fitted-level-0: #f0f8ff;\n",
       "  --sklearn-color-fitted-level-1: #d4ebff;\n",
       "  --sklearn-color-fitted-level-2: #b3dbfd;\n",
       "  --sklearn-color-fitted-level-3: cornflowerblue;\n",
       "\n",
       "  /* Specific color for light theme */\n",
       "  --sklearn-color-text-on-default-background: var(--sg-text-color, var(--theme-code-foreground, var(--jp-content-font-color1, black)));\n",
       "  --sklearn-color-background: var(--sg-background-color, var(--theme-background, var(--jp-layout-color0, white)));\n",
       "  --sklearn-color-border-box: var(--sg-text-color, var(--theme-code-foreground, var(--jp-content-font-color1, black)));\n",
       "  --sklearn-color-icon: #696969;\n",
       "\n",
       "  @media (prefers-color-scheme: dark) {\n",
       "    /* Redefinition of color scheme for dark theme */\n",
       "    --sklearn-color-text-on-default-background: var(--sg-text-color, var(--theme-code-foreground, var(--jp-content-font-color1, white)));\n",
       "    --sklearn-color-background: var(--sg-background-color, var(--theme-background, var(--jp-layout-color0, #111)));\n",
       "    --sklearn-color-border-box: var(--sg-text-color, var(--theme-code-foreground, var(--jp-content-font-color1, white)));\n",
       "    --sklearn-color-icon: #878787;\n",
       "  }\n",
       "}\n",
       "\n",
       "#sk-container-id-3 {\n",
       "  color: var(--sklearn-color-text);\n",
       "}\n",
       "\n",
       "#sk-container-id-3 pre {\n",
       "  padding: 0;\n",
       "}\n",
       "\n",
       "#sk-container-id-3 input.sk-hidden--visually {\n",
       "  border: 0;\n",
       "  clip: rect(1px 1px 1px 1px);\n",
       "  clip: rect(1px, 1px, 1px, 1px);\n",
       "  height: 1px;\n",
       "  margin: -1px;\n",
       "  overflow: hidden;\n",
       "  padding: 0;\n",
       "  position: absolute;\n",
       "  width: 1px;\n",
       "}\n",
       "\n",
       "#sk-container-id-3 div.sk-dashed-wrapped {\n",
       "  border: 1px dashed var(--sklearn-color-line);\n",
       "  margin: 0 0.4em 0.5em 0.4em;\n",
       "  box-sizing: border-box;\n",
       "  padding-bottom: 0.4em;\n",
       "  background-color: var(--sklearn-color-background);\n",
       "}\n",
       "\n",
       "#sk-container-id-3 div.sk-container {\n",
       "  /* jupyter's `normalize.less` sets `[hidden] { display: none; }`\n",
       "     but bootstrap.min.css set `[hidden] { display: none !important; }`\n",
       "     so we also need the `!important` here to be able to override the\n",
       "     default hidden behavior on the sphinx rendered scikit-learn.org.\n",
       "     See: https://github.com/scikit-learn/scikit-learn/issues/21755 */\n",
       "  display: inline-block !important;\n",
       "  position: relative;\n",
       "}\n",
       "\n",
       "#sk-container-id-3 div.sk-text-repr-fallback {\n",
       "  display: none;\n",
       "}\n",
       "\n",
       "div.sk-parallel-item,\n",
       "div.sk-serial,\n",
       "div.sk-item {\n",
       "  /* draw centered vertical line to link estimators */\n",
       "  background-image: linear-gradient(var(--sklearn-color-text-on-default-background), var(--sklearn-color-text-on-default-background));\n",
       "  background-size: 2px 100%;\n",
       "  background-repeat: no-repeat;\n",
       "  background-position: center center;\n",
       "}\n",
       "\n",
       "/* Parallel-specific style estimator block */\n",
       "\n",
       "#sk-container-id-3 div.sk-parallel-item::after {\n",
       "  content: \"\";\n",
       "  width: 100%;\n",
       "  border-bottom: 2px solid var(--sklearn-color-text-on-default-background);\n",
       "  flex-grow: 1;\n",
       "}\n",
       "\n",
       "#sk-container-id-3 div.sk-parallel {\n",
       "  display: flex;\n",
       "  align-items: stretch;\n",
       "  justify-content: center;\n",
       "  background-color: var(--sklearn-color-background);\n",
       "  position: relative;\n",
       "}\n",
       "\n",
       "#sk-container-id-3 div.sk-parallel-item {\n",
       "  display: flex;\n",
       "  flex-direction: column;\n",
       "}\n",
       "\n",
       "#sk-container-id-3 div.sk-parallel-item:first-child::after {\n",
       "  align-self: flex-end;\n",
       "  width: 50%;\n",
       "}\n",
       "\n",
       "#sk-container-id-3 div.sk-parallel-item:last-child::after {\n",
       "  align-self: flex-start;\n",
       "  width: 50%;\n",
       "}\n",
       "\n",
       "#sk-container-id-3 div.sk-parallel-item:only-child::after {\n",
       "  width: 0;\n",
       "}\n",
       "\n",
       "/* Serial-specific style estimator block */\n",
       "\n",
       "#sk-container-id-3 div.sk-serial {\n",
       "  display: flex;\n",
       "  flex-direction: column;\n",
       "  align-items: center;\n",
       "  background-color: var(--sklearn-color-background);\n",
       "  padding-right: 1em;\n",
       "  padding-left: 1em;\n",
       "}\n",
       "\n",
       "\n",
       "/* Toggleable style: style used for estimator/Pipeline/ColumnTransformer box that is\n",
       "clickable and can be expanded/collapsed.\n",
       "- Pipeline and ColumnTransformer use this feature and define the default style\n",
       "- Estimators will overwrite some part of the style using the `sk-estimator` class\n",
       "*/\n",
       "\n",
       "/* Pipeline and ColumnTransformer style (default) */\n",
       "\n",
       "#sk-container-id-3 div.sk-toggleable {\n",
       "  /* Default theme specific background. It is overwritten whether we have a\n",
       "  specific estimator or a Pipeline/ColumnTransformer */\n",
       "  background-color: var(--sklearn-color-background);\n",
       "}\n",
       "\n",
       "/* Toggleable label */\n",
       "#sk-container-id-3 label.sk-toggleable__label {\n",
       "  cursor: pointer;\n",
       "  display: block;\n",
       "  width: 100%;\n",
       "  margin-bottom: 0;\n",
       "  padding: 0.5em;\n",
       "  box-sizing: border-box;\n",
       "  text-align: center;\n",
       "}\n",
       "\n",
       "#sk-container-id-3 label.sk-toggleable__label-arrow:before {\n",
       "  /* Arrow on the left of the label */\n",
       "  content: \"▸\";\n",
       "  float: left;\n",
       "  margin-right: 0.25em;\n",
       "  color: var(--sklearn-color-icon);\n",
       "}\n",
       "\n",
       "#sk-container-id-3 label.sk-toggleable__label-arrow:hover:before {\n",
       "  color: var(--sklearn-color-text);\n",
       "}\n",
       "\n",
       "/* Toggleable content - dropdown */\n",
       "\n",
       "#sk-container-id-3 div.sk-toggleable__content {\n",
       "  max-height: 0;\n",
       "  max-width: 0;\n",
       "  overflow: hidden;\n",
       "  text-align: left;\n",
       "  /* unfitted */\n",
       "  background-color: var(--sklearn-color-unfitted-level-0);\n",
       "}\n",
       "\n",
       "#sk-container-id-3 div.sk-toggleable__content.fitted {\n",
       "  /* fitted */\n",
       "  background-color: var(--sklearn-color-fitted-level-0);\n",
       "}\n",
       "\n",
       "#sk-container-id-3 div.sk-toggleable__content pre {\n",
       "  margin: 0.2em;\n",
       "  border-radius: 0.25em;\n",
       "  color: var(--sklearn-color-text);\n",
       "  /* unfitted */\n",
       "  background-color: var(--sklearn-color-unfitted-level-0);\n",
       "}\n",
       "\n",
       "#sk-container-id-3 div.sk-toggleable__content.fitted pre {\n",
       "  /* unfitted */\n",
       "  background-color: var(--sklearn-color-fitted-level-0);\n",
       "}\n",
       "\n",
       "#sk-container-id-3 input.sk-toggleable__control:checked~div.sk-toggleable__content {\n",
       "  /* Expand drop-down */\n",
       "  max-height: 200px;\n",
       "  max-width: 100%;\n",
       "  overflow: auto;\n",
       "}\n",
       "\n",
       "#sk-container-id-3 input.sk-toggleable__control:checked~label.sk-toggleable__label-arrow:before {\n",
       "  content: \"▾\";\n",
       "}\n",
       "\n",
       "/* Pipeline/ColumnTransformer-specific style */\n",
       "\n",
       "#sk-container-id-3 div.sk-label input.sk-toggleable__control:checked~label.sk-toggleable__label {\n",
       "  color: var(--sklearn-color-text);\n",
       "  background-color: var(--sklearn-color-unfitted-level-2);\n",
       "}\n",
       "\n",
       "#sk-container-id-3 div.sk-label.fitted input.sk-toggleable__control:checked~label.sk-toggleable__label {\n",
       "  background-color: var(--sklearn-color-fitted-level-2);\n",
       "}\n",
       "\n",
       "/* Estimator-specific style */\n",
       "\n",
       "/* Colorize estimator box */\n",
       "#sk-container-id-3 div.sk-estimator input.sk-toggleable__control:checked~label.sk-toggleable__label {\n",
       "  /* unfitted */\n",
       "  background-color: var(--sklearn-color-unfitted-level-2);\n",
       "}\n",
       "\n",
       "#sk-container-id-3 div.sk-estimator.fitted input.sk-toggleable__control:checked~label.sk-toggleable__label {\n",
       "  /* fitted */\n",
       "  background-color: var(--sklearn-color-fitted-level-2);\n",
       "}\n",
       "\n",
       "#sk-container-id-3 div.sk-label label.sk-toggleable__label,\n",
       "#sk-container-id-3 div.sk-label label {\n",
       "  /* The background is the default theme color */\n",
       "  color: var(--sklearn-color-text-on-default-background);\n",
       "}\n",
       "\n",
       "/* On hover, darken the color of the background */\n",
       "#sk-container-id-3 div.sk-label:hover label.sk-toggleable__label {\n",
       "  color: var(--sklearn-color-text);\n",
       "  background-color: var(--sklearn-color-unfitted-level-2);\n",
       "}\n",
       "\n",
       "/* Label box, darken color on hover, fitted */\n",
       "#sk-container-id-3 div.sk-label.fitted:hover label.sk-toggleable__label.fitted {\n",
       "  color: var(--sklearn-color-text);\n",
       "  background-color: var(--sklearn-color-fitted-level-2);\n",
       "}\n",
       "\n",
       "/* Estimator label */\n",
       "\n",
       "#sk-container-id-3 div.sk-label label {\n",
       "  font-family: monospace;\n",
       "  font-weight: bold;\n",
       "  display: inline-block;\n",
       "  line-height: 1.2em;\n",
       "}\n",
       "\n",
       "#sk-container-id-3 div.sk-label-container {\n",
       "  text-align: center;\n",
       "}\n",
       "\n",
       "/* Estimator-specific */\n",
       "#sk-container-id-3 div.sk-estimator {\n",
       "  font-family: monospace;\n",
       "  border: 1px dotted var(--sklearn-color-border-box);\n",
       "  border-radius: 0.25em;\n",
       "  box-sizing: border-box;\n",
       "  margin-bottom: 0.5em;\n",
       "  /* unfitted */\n",
       "  background-color: var(--sklearn-color-unfitted-level-0);\n",
       "}\n",
       "\n",
       "#sk-container-id-3 div.sk-estimator.fitted {\n",
       "  /* fitted */\n",
       "  background-color: var(--sklearn-color-fitted-level-0);\n",
       "}\n",
       "\n",
       "/* on hover */\n",
       "#sk-container-id-3 div.sk-estimator:hover {\n",
       "  /* unfitted */\n",
       "  background-color: var(--sklearn-color-unfitted-level-2);\n",
       "}\n",
       "\n",
       "#sk-container-id-3 div.sk-estimator.fitted:hover {\n",
       "  /* fitted */\n",
       "  background-color: var(--sklearn-color-fitted-level-2);\n",
       "}\n",
       "\n",
       "/* Specification for estimator info (e.g. \"i\" and \"?\") */\n",
       "\n",
       "/* Common style for \"i\" and \"?\" */\n",
       "\n",
       ".sk-estimator-doc-link,\n",
       "a:link.sk-estimator-doc-link,\n",
       "a:visited.sk-estimator-doc-link {\n",
       "  float: right;\n",
       "  font-size: smaller;\n",
       "  line-height: 1em;\n",
       "  font-family: monospace;\n",
       "  background-color: var(--sklearn-color-background);\n",
       "  border-radius: 1em;\n",
       "  height: 1em;\n",
       "  width: 1em;\n",
       "  text-decoration: none !important;\n",
       "  margin-left: 1ex;\n",
       "  /* unfitted */\n",
       "  border: var(--sklearn-color-unfitted-level-1) 1pt solid;\n",
       "  color: var(--sklearn-color-unfitted-level-1);\n",
       "}\n",
       "\n",
       ".sk-estimator-doc-link.fitted,\n",
       "a:link.sk-estimator-doc-link.fitted,\n",
       "a:visited.sk-estimator-doc-link.fitted {\n",
       "  /* fitted */\n",
       "  border: var(--sklearn-color-fitted-level-1) 1pt solid;\n",
       "  color: var(--sklearn-color-fitted-level-1);\n",
       "}\n",
       "\n",
       "/* On hover */\n",
       "div.sk-estimator:hover .sk-estimator-doc-link:hover,\n",
       ".sk-estimator-doc-link:hover,\n",
       "div.sk-label-container:hover .sk-estimator-doc-link:hover,\n",
       ".sk-estimator-doc-link:hover {\n",
       "  /* unfitted */\n",
       "  background-color: var(--sklearn-color-unfitted-level-3);\n",
       "  color: var(--sklearn-color-background);\n",
       "  text-decoration: none;\n",
       "}\n",
       "\n",
       "div.sk-estimator.fitted:hover .sk-estimator-doc-link.fitted:hover,\n",
       ".sk-estimator-doc-link.fitted:hover,\n",
       "div.sk-label-container:hover .sk-estimator-doc-link.fitted:hover,\n",
       ".sk-estimator-doc-link.fitted:hover {\n",
       "  /* fitted */\n",
       "  background-color: var(--sklearn-color-fitted-level-3);\n",
       "  color: var(--sklearn-color-background);\n",
       "  text-decoration: none;\n",
       "}\n",
       "\n",
       "/* Span, style for the box shown on hovering the info icon */\n",
       ".sk-estimator-doc-link span {\n",
       "  display: none;\n",
       "  z-index: 9999;\n",
       "  position: relative;\n",
       "  font-weight: normal;\n",
       "  right: .2ex;\n",
       "  padding: .5ex;\n",
       "  margin: .5ex;\n",
       "  width: min-content;\n",
       "  min-width: 20ex;\n",
       "  max-width: 50ex;\n",
       "  color: var(--sklearn-color-text);\n",
       "  box-shadow: 2pt 2pt 4pt #999;\n",
       "  /* unfitted */\n",
       "  background: var(--sklearn-color-unfitted-level-0);\n",
       "  border: .5pt solid var(--sklearn-color-unfitted-level-3);\n",
       "}\n",
       "\n",
       ".sk-estimator-doc-link.fitted span {\n",
       "  /* fitted */\n",
       "  background: var(--sklearn-color-fitted-level-0);\n",
       "  border: var(--sklearn-color-fitted-level-3);\n",
       "}\n",
       "\n",
       ".sk-estimator-doc-link:hover span {\n",
       "  display: block;\n",
       "}\n",
       "\n",
       "/* \"?\"-specific style due to the `<a>` HTML tag */\n",
       "\n",
       "#sk-container-id-3 a.estimator_doc_link {\n",
       "  float: right;\n",
       "  font-size: 1rem;\n",
       "  line-height: 1em;\n",
       "  font-family: monospace;\n",
       "  background-color: var(--sklearn-color-background);\n",
       "  border-radius: 1rem;\n",
       "  height: 1rem;\n",
       "  width: 1rem;\n",
       "  text-decoration: none;\n",
       "  /* unfitted */\n",
       "  color: var(--sklearn-color-unfitted-level-1);\n",
       "  border: var(--sklearn-color-unfitted-level-1) 1pt solid;\n",
       "}\n",
       "\n",
       "#sk-container-id-3 a.estimator_doc_link.fitted {\n",
       "  /* fitted */\n",
       "  border: var(--sklearn-color-fitted-level-1) 1pt solid;\n",
       "  color: var(--sklearn-color-fitted-level-1);\n",
       "}\n",
       "\n",
       "/* On hover */\n",
       "#sk-container-id-3 a.estimator_doc_link:hover {\n",
       "  /* unfitted */\n",
       "  background-color: var(--sklearn-color-unfitted-level-3);\n",
       "  color: var(--sklearn-color-background);\n",
       "  text-decoration: none;\n",
       "}\n",
       "\n",
       "#sk-container-id-3 a.estimator_doc_link.fitted:hover {\n",
       "  /* fitted */\n",
       "  background-color: var(--sklearn-color-fitted-level-3);\n",
       "}\n",
       "</style><div id=\"sk-container-id-3\" class=\"sk-top-container\"><div class=\"sk-text-repr-fallback\"><pre>Pipeline(steps=[(&#x27;preprocessor&#x27;,\n",
       "                 ColumnTransformer(transformers=[(&#x27;num&#x27;, StandardScaler(),\n",
       "                                                  [&#x27;age&#x27;, &#x27;hypertension&#x27;,\n",
       "                                                   &#x27;heart_disease&#x27;,\n",
       "                                                   &#x27;avg_glucose_level&#x27;,\n",
       "                                                   &#x27;bmi&#x27;]),\n",
       "                                                 (&#x27;cat&#x27;,\n",
       "                                                  OneHotEncoder(handle_unknown=&#x27;ignore&#x27;),\n",
       "                                                  [&#x27;gender&#x27;, &#x27;ever_married&#x27;,\n",
       "                                                   &#x27;work_type&#x27;,\n",
       "                                                   &#x27;Residence_type&#x27;,\n",
       "                                                   &#x27;smoking_status&#x27;])])),\n",
       "                (&#x27;smote&#x27;, SMOTE(random_state=42)),\n",
       "                (&#x27;classifier&#x27;,\n",
       "                 LogisticRegression(C=0.007400050705590661, penalty=&#x27;l1&#x27;,\n",
       "                                    solver=&#x27;liblinear&#x27;))])</pre><b>In a Jupyter environment, please rerun this cell to show the HTML representation or trust the notebook. <br />On GitHub, the HTML representation is unable to render, please try loading this page with nbviewer.org.</b></div><div class=\"sk-container\" hidden><div class=\"sk-item sk-dashed-wrapped\"><div class=\"sk-label-container\"><div class=\"sk-label fitted sk-toggleable\"><input class=\"sk-toggleable__control sk-hidden--visually\" id=\"sk-estimator-id-17\" type=\"checkbox\" ><label for=\"sk-estimator-id-17\" class=\"sk-toggleable__label fitted sk-toggleable__label-arrow fitted\">&nbsp;Pipeline<span class=\"sk-estimator-doc-link fitted\">i<span>Fitted</span></span></label><div class=\"sk-toggleable__content fitted\"><pre>Pipeline(steps=[(&#x27;preprocessor&#x27;,\n",
       "                 ColumnTransformer(transformers=[(&#x27;num&#x27;, StandardScaler(),\n",
       "                                                  [&#x27;age&#x27;, &#x27;hypertension&#x27;,\n",
       "                                                   &#x27;heart_disease&#x27;,\n",
       "                                                   &#x27;avg_glucose_level&#x27;,\n",
       "                                                   &#x27;bmi&#x27;]),\n",
       "                                                 (&#x27;cat&#x27;,\n",
       "                                                  OneHotEncoder(handle_unknown=&#x27;ignore&#x27;),\n",
       "                                                  [&#x27;gender&#x27;, &#x27;ever_married&#x27;,\n",
       "                                                   &#x27;work_type&#x27;,\n",
       "                                                   &#x27;Residence_type&#x27;,\n",
       "                                                   &#x27;smoking_status&#x27;])])),\n",
       "                (&#x27;smote&#x27;, SMOTE(random_state=42)),\n",
       "                (&#x27;classifier&#x27;,\n",
       "                 LogisticRegression(C=0.007400050705590661, penalty=&#x27;l1&#x27;,\n",
       "                                    solver=&#x27;liblinear&#x27;))])</pre></div> </div></div><div class=\"sk-serial\"><div class=\"sk-item sk-dashed-wrapped\"><div class=\"sk-label-container\"><div class=\"sk-label fitted sk-toggleable\"><input class=\"sk-toggleable__control sk-hidden--visually\" id=\"sk-estimator-id-18\" type=\"checkbox\" ><label for=\"sk-estimator-id-18\" class=\"sk-toggleable__label fitted sk-toggleable__label-arrow fitted\">&nbsp;preprocessor: ColumnTransformer<a class=\"sk-estimator-doc-link fitted\" rel=\"noreferrer\" target=\"_blank\" href=\"https://scikit-learn.org/1.5/modules/generated/sklearn.compose.ColumnTransformer.html\">?<span>Documentation for preprocessor: ColumnTransformer</span></a></label><div class=\"sk-toggleable__content fitted\"><pre>ColumnTransformer(transformers=[(&#x27;num&#x27;, StandardScaler(),\n",
       "                                 [&#x27;age&#x27;, &#x27;hypertension&#x27;, &#x27;heart_disease&#x27;,\n",
       "                                  &#x27;avg_glucose_level&#x27;, &#x27;bmi&#x27;]),\n",
       "                                (&#x27;cat&#x27;, OneHotEncoder(handle_unknown=&#x27;ignore&#x27;),\n",
       "                                 [&#x27;gender&#x27;, &#x27;ever_married&#x27;, &#x27;work_type&#x27;,\n",
       "                                  &#x27;Residence_type&#x27;, &#x27;smoking_status&#x27;])])</pre></div> </div></div><div class=\"sk-parallel\"><div class=\"sk-parallel-item\"><div class=\"sk-item\"><div class=\"sk-label-container\"><div class=\"sk-label fitted sk-toggleable\"><input class=\"sk-toggleable__control sk-hidden--visually\" id=\"sk-estimator-id-19\" type=\"checkbox\" ><label for=\"sk-estimator-id-19\" class=\"sk-toggleable__label fitted sk-toggleable__label-arrow fitted\">num</label><div class=\"sk-toggleable__content fitted\"><pre>[&#x27;age&#x27;, &#x27;hypertension&#x27;, &#x27;heart_disease&#x27;, &#x27;avg_glucose_level&#x27;, &#x27;bmi&#x27;]</pre></div> </div></div><div class=\"sk-serial\"><div class=\"sk-item\"><div class=\"sk-estimator fitted sk-toggleable\"><input class=\"sk-toggleable__control sk-hidden--visually\" id=\"sk-estimator-id-20\" type=\"checkbox\" ><label for=\"sk-estimator-id-20\" class=\"sk-toggleable__label fitted sk-toggleable__label-arrow fitted\">&nbsp;StandardScaler<a class=\"sk-estimator-doc-link fitted\" rel=\"noreferrer\" target=\"_blank\" href=\"https://scikit-learn.org/1.5/modules/generated/sklearn.preprocessing.StandardScaler.html\">?<span>Documentation for StandardScaler</span></a></label><div class=\"sk-toggleable__content fitted\"><pre>StandardScaler()</pre></div> </div></div></div></div></div><div class=\"sk-parallel-item\"><div class=\"sk-item\"><div class=\"sk-label-container\"><div class=\"sk-label fitted sk-toggleable\"><input class=\"sk-toggleable__control sk-hidden--visually\" id=\"sk-estimator-id-21\" type=\"checkbox\" ><label for=\"sk-estimator-id-21\" class=\"sk-toggleable__label fitted sk-toggleable__label-arrow fitted\">cat</label><div class=\"sk-toggleable__content fitted\"><pre>[&#x27;gender&#x27;, &#x27;ever_married&#x27;, &#x27;work_type&#x27;, &#x27;Residence_type&#x27;, &#x27;smoking_status&#x27;]</pre></div> </div></div><div class=\"sk-serial\"><div class=\"sk-item\"><div class=\"sk-estimator fitted sk-toggleable\"><input class=\"sk-toggleable__control sk-hidden--visually\" id=\"sk-estimator-id-22\" type=\"checkbox\" ><label for=\"sk-estimator-id-22\" class=\"sk-toggleable__label fitted sk-toggleable__label-arrow fitted\">&nbsp;OneHotEncoder<a class=\"sk-estimator-doc-link fitted\" rel=\"noreferrer\" target=\"_blank\" href=\"https://scikit-learn.org/1.5/modules/generated/sklearn.preprocessing.OneHotEncoder.html\">?<span>Documentation for OneHotEncoder</span></a></label><div class=\"sk-toggleable__content fitted\"><pre>OneHotEncoder(handle_unknown=&#x27;ignore&#x27;)</pre></div> </div></div></div></div></div></div></div><div class=\"sk-item\"><div class=\"sk-estimator fitted sk-toggleable\"><input class=\"sk-toggleable__control sk-hidden--visually\" id=\"sk-estimator-id-23\" type=\"checkbox\" ><label for=\"sk-estimator-id-23\" class=\"sk-toggleable__label fitted sk-toggleable__label-arrow fitted\">SMOTE</label><div class=\"sk-toggleable__content fitted\"><pre>SMOTE(random_state=42)</pre></div> </div></div><div class=\"sk-item\"><div class=\"sk-estimator fitted sk-toggleable\"><input class=\"sk-toggleable__control sk-hidden--visually\" id=\"sk-estimator-id-24\" type=\"checkbox\" ><label for=\"sk-estimator-id-24\" class=\"sk-toggleable__label fitted sk-toggleable__label-arrow fitted\">&nbsp;LogisticRegression<a class=\"sk-estimator-doc-link fitted\" rel=\"noreferrer\" target=\"_blank\" href=\"https://scikit-learn.org/1.5/modules/generated/sklearn.linear_model.LogisticRegression.html\">?<span>Documentation for LogisticRegression</span></a></label><div class=\"sk-toggleable__content fitted\"><pre>LogisticRegression(C=0.007400050705590661, penalty=&#x27;l1&#x27;, solver=&#x27;liblinear&#x27;)</pre></div> </div></div></div></div></div></div>"
      ],
      "text/plain": [
       "Pipeline(steps=[('preprocessor',\n",
       "                 ColumnTransformer(transformers=[('num', StandardScaler(),\n",
       "                                                  ['age', 'hypertension',\n",
       "                                                   'heart_disease',\n",
       "                                                   'avg_glucose_level',\n",
       "                                                   'bmi']),\n",
       "                                                 ('cat',\n",
       "                                                  OneHotEncoder(handle_unknown='ignore'),\n",
       "                                                  ['gender', 'ever_married',\n",
       "                                                   'work_type',\n",
       "                                                   'Residence_type',\n",
       "                                                   'smoking_status'])])),\n",
       "                ('smote', SMOTE(random_state=42)),\n",
       "                ('classifier',\n",
       "                 LogisticRegression(C=0.007400050705590661, penalty='l1',\n",
       "                                    solver='liblinear'))])"
      ]
     },
     "execution_count": 94,
     "metadata": {},
     "output_type": "execute_result"
    }
   ],
   "source": [
    "# Entrenar el mejor modelo con los mejores hiperparámetros\n",
    "best_params = study.best_params\n",
    "best_classifier = models[best_model[0]]\n",
    "best_classifier.set_params(**best_params)\n",
    "best_pipeline = create_pipeline(best_classifier)\n",
    "best_pipeline.fit(X_train, y_train)"
   ]
  },
  {
   "cell_type": "code",
   "execution_count": 95,
   "metadata": {},
   "outputs": [
    {
     "name": "stderr",
     "output_type": "stream",
     "text": [
      "DEBUG:urllib3.connectionpool:Resetting dropped connection: localhost\n",
      "DEBUG:urllib3.connectionpool:http://localhost:5000 \"POST /api/2.0/mlflow/runs/create HTTP/11\" 200 1014\n",
      "DEBUG:urllib3.connectionpool:Resetting dropped connection: localhost\n",
      "DEBUG:urllib3.connectionpool:http://localhost:5000 \"POST /api/2.0/mlflow/runs/log-batch HTTP/11\" 200 2\n",
      "DEBUG:urllib3.connectionpool:Resetting dropped connection: localhost\n",
      "DEBUG:urllib3.connectionpool:http://localhost:5000 \"POST /api/2.0/mlflow/runs/log-batch HTTP/11\" 200 2\n"
     ]
    },
    {
     "name": "stdout",
     "output_type": "stream",
     "text": [
      "\n",
      "Best model after optimization: Logistic Regression\n",
      "Best parameters: {'solver': 'liblinear', 'penalty': 'l1', 'C': 0.007400050705590661}\n",
      "\n",
      "Optimized model metrics:\n",
      "accuracy: 0.7111\n",
      "precision: 0.1411\n",
      "recall: 0.8519\n",
      "f1: 0.2421\n",
      "auc: 0.8491\n",
      "\n",
      "Train AUC: 0.8408\n",
      "Overfitting: -0.0083\n"
     ]
    }
   ],
   "source": [
    "# Evaluar el modelo optimizado\n",
    "y_pred_optimized = best_pipeline.predict(X_test)\n",
    "y_pred_proba_optimized = best_pipeline.predict_proba(X_test)[:, 1]\n",
    "metrics_optimized = evaluate_model(y_test, y_pred_optimized, y_pred_proba_optimized)\n",
    "\n",
    "# Log de métricas del modelo optimizado en MLflow\n",
    "mlflow.log_params(best_params)\n",
    "mlflow.log_metrics(metrics_optimized)\n",
    "\n",
    "print(f\"\\nBest model after optimization: {best_model[0]}\")\n",
    "print(f\"Best parameters: {best_params}\")\n",
    "print(\"\\nOptimized model metrics:\")\n",
    "for metric, value in metrics_optimized.items():\n",
    "    print(f\"{metric}: {value:.4f}\")\n",
    "    \n",
    "# Calcular e imprimir el overfitting\n",
    "y_train_pred_proba = best_pipeline.predict_proba(X_train)[:, 1]\n",
    "train_auc = roc_auc_score(y_train, y_train_pred_proba)\n",
    "overfitting = train_auc - metrics_optimized['auc']\n",
    "print(f\"\\nTrain AUC: {train_auc:.4f}\")\n",
    "print(f\"Overfitting: {overfitting:.4f}\")\n"
   ]
  },
  {
   "cell_type": "code",
   "execution_count": 96,
   "metadata": {},
   "outputs": [
    {
     "name": "stderr",
     "output_type": "stream",
     "text": [
      "DEBUG:matplotlib.colorbar:locator: <matplotlib.ticker.AutoLocator object at 0x140736480>\n"
     ]
    },
    {
     "data": {
      "image/png": "[encoded data removed]",
      "text/plain": [
       "<Figure size 600x400 with 2 Axes>"
      ]
     },
     "metadata": {},
     "output_type": "display_data"
    }
   ],
   "source": [
    "# Visualizar matriz de confusión\n",
    "cm = confusion_matrix(y_test, y_pred_optimized)\n",
    "plt.figure(figsize=(6, 4))\n",
    "plt.imshow(cm, interpolation='nearest', cmap=plt.cm.Blues)\n",
    "plt.title('Confusion Matrix')\n",
    "plt.colorbar()\n",
    "tick_marks = np.arange(2)\n",
    "plt.xticks(tick_marks, ['No Stroke', 'Stroke'])\n",
    "plt.yticks(tick_marks, ['No Stroke', 'Stroke'])\n",
    "plt.tight_layout()\n",
    "plt.ylabel('True label')\n",
    "plt.xlabel('Predicted label')\n",
    "for i in range(2):\n",
    "    for j in range(2):\n",
    "        plt.text(j, i, str(cm[i, j]), horizontalalignment=\"center\", color=\"white\" if cm[i, j] > cm.max() / 2 else \"black\")\n",
    "plt.show()"
   ]
  },
  {
   "cell_type": "code",
   "execution_count": 97,
   "metadata": {},
   "outputs": [
    {
     "data": {
      "image/png": "[encoded data removed]",
      "text/plain": [
       "<Figure size 800x600 with 1 Axes>"
      ]
     },
     "metadata": {},
     "output_type": "display_data"
    }
   ],
   "source": [
    "# Visualizar curva ROC\n",
    "fpr, tpr, _ = roc_curve(y_test, y_pred_proba_optimized)\n",
    "plt.figure(figsize=(8, 6))\n",
    "plt.plot(fpr, tpr, color='blue', label=f'ROC curve (AUC = {metrics_optimized[\"auc\"]:.2f})')\n",
    "plt.plot([0, 1], [0, 1], color='red', linestyle='--')\n",
    "plt.xlim([0.0, 1.0])\n",
    "plt.ylim([0.0, 1.05])\n",
    "plt.xlabel('False Positive Rate')\n",
    "plt.ylabel('True Positive Rate')\n",
    "plt.title('Receiver Operating Characteristic (ROC) Curve')\n",
    "plt.legend(loc=\"lower right\")\n",
    "plt.show()"
   ]
  },
  {
   "cell_type": "code",
   "execution_count": 98,
   "metadata": {},
   "outputs": [
    {
     "name": "stderr",
     "output_type": "stream",
     "text": [
      "DEBUG:urllib3.connectionpool:Resetting dropped connection: localhost\n",
      "DEBUG:urllib3.connectionpool:http://localhost:5000 \"GET /api/2.0/mlflow/runs/get?run_uuid=6df5c31b5bc64698bcb2280aab4aa2b0&run_id=6df5c31b5bc64698bcb2280aab4aa2b0 HTTP/11\" 200 2046\n",
      "2024/10/16 16:02:37 INFO mlflow.tracking._tracking_service.client: 🏃 View run trusting-newt-671 at: http://localhost:5000/#/experiments/0/runs/6df5c31b5bc64698bcb2280aab4aa2b0.\n",
      "2024/10/16 16:02:37 INFO mlflow.tracking._tracking_service.client: 🧪 View experiment at: http://localhost:5000/#/experiments/0.\n",
      "DEBUG:urllib3.connectionpool:Resetting dropped connection: localhost\n",
      "DEBUG:urllib3.connectionpool:http://localhost:5000 \"POST /api/2.0/mlflow/runs/update HTTP/11\" 200 508\n"
     ]
    },
    {
     "name": "stdout",
     "output_type": "stream",
     "text": [
      "\n",
      "Best model saved as: best_stroke_prediction_model_logistic_regression.pkl\n"
     ]
    }
   ],
   "source": [
    "# Guardar el mejor modelo en un archivo pickle\n",
    "best_model_filename = f'best_stroke_prediction_model_{best_model[0].replace(\" \", \"_\").lower()}.pkl'\n",
    "joblib.dump(best_pipeline, best_model_filename)\n",
    "print(f\"\\nBest model saved as: {best_model_filename}\")\n",
    "\n",
    "# Finalizar el seguimiento de MLflow\n",
    "mlflow.end_run()"
   ]
  },
  {
   "cell_type": "code",
   "execution_count": 99,
   "metadata": {},
   "outputs": [
    {
     "name": "stdout",
     "output_type": "stream",
     "text": [
      "Importancia de las características:\n",
      "                                Feature  Importance\n",
      "0                              num__age    1.517127\n",
      "3                num__avg_glucose_level    0.155074\n",
      "17     cat__smoking_status_never smoked    0.085641\n",
      "1                     num__hypertension    0.061046\n",
      "11         cat__work_type_Self-employed    0.000000\n",
      "16  cat__smoking_status_formerly smoked    0.000000\n",
      "15          cat__smoking_status_Unknown    0.000000\n",
      "14            cat__Residence_type_Urban    0.000000\n",
      "13            cat__Residence_type_Rural    0.000000\n",
      "12              cat__work_type_children    0.000000\n",
      "9               cat__work_type_Govt_job    0.000000\n",
      "10               cat__work_type_Private    0.000000\n",
      "8                 cat__ever_married_Yes    0.000000\n",
      "7                  cat__ever_married_No    0.000000\n",
      "6                      cat__gender_Male    0.000000\n",
      "5                    cat__gender_Female    0.000000\n",
      "4                              num__bmi    0.000000\n",
      "2                    num__heart_disease    0.000000\n",
      "18           cat__smoking_status_smokes    0.000000\n",
      "\n",
      "Best model saved as: best_stroke_prediction_model_logistic_regression.pkl\n"
     ]
    }
   ],
   "source": [
    "# Extraer el clasificador del pipeline\n",
    "best_classifier = best_pipeline.named_steps['classifier']\n",
    "X_train_transformed = best_pipeline.named_steps['preprocessor'].transform(X_train)  # Transformar X_train\n",
    "\n",
    "# Inicializar el DataFrame para la importancia\n",
    "importance_df = pd.DataFrame()\n",
    "\n",
    "# Calcular la importancia de las características\n",
    "if hasattr(best_classifier, 'coef_'):  # Modelos lineales\n",
    "    importance = best_classifier.coef_[0]\n",
    "    features = best_pipeline.named_steps['preprocessor'].get_feature_names_out(X_train.columns)\n",
    "\n",
    "elif hasattr(best_classifier, 'feature_importances_'):  # Modelos basados en árboles\n",
    "    importance = best_classifier.feature_importances_\n",
    "    features = best_pipeline.named_steps['preprocessor'].get_feature_names_out(X_train.columns)\n",
    "\n",
    "else:\n",
    "    raise ValueError(\"El clasificador no tiene coeficientes ni importancias para calcular.\")\n",
    "\n",
    "# Crear DataFrame de importancia\n",
    "importance_df = pd.DataFrame({'Feature': features, 'Importance': importance})\n",
    "importance_df['Importance'] = importance_df['Importance'].abs()\n",
    "importance_df = importance_df.sort_values(by='Importance', ascending=False)\n",
    "\n",
    "# Mostrar la importancia de las características\n",
    "print(\"Importancia de las características:\")\n",
    "print(importance_df)\n",
    "\n",
    "# Guardar el mejor modelo en un archivo pickle\n",
    "best_model_filename = f'best_stroke_prediction_model_{best_model[0].replace(\" \", \"_\").lower()}.pkl'\n",
    "joblib.dump(best_pipeline, best_model_filename)\n",
    "print(f\"\\nBest model saved as: {best_model_filename}\")"
   ]
  },
  {
   "cell_type": "code",
   "execution_count": 100,
   "metadata": {},
   "outputs": [
    {
     "data": {
      "image/png": "[encoded data removed]",
      "text/plain": [
       "<Figure size 1000x600 with 1 Axes>"
      ]
     },
     "metadata": {},
     "output_type": "display_data"
    }
   ],
   "source": [
    "# Hacer una gráfica con la característica de importancias que hemos hecho en el paso anterior\n",
    "plt.figure(figsize=(10, 6))\n",
    "plt.bar(importance_df['Feature'], importance_df['Importance'], color='blue')\n",
    "plt.title('Feature Importance')\n",
    "plt.xlabel('Feature')\n",
    "plt.ylabel('Importance')\n",
    "plt.xticks(rotation=45)\n",
    "plt.tight_layout()\n",
    "plt.show()"
   ]
  }
 ],
 "metadata": {
  "kernelspec": {
   "display_name": "Kernel para proyecto de DataScientist",
   "language": "python",
   "name": "data_scientist"
  },
  "language_info": {
   "codemirror_mode": {
    "name": "ipython",
    "version": 3
   },
   "file_extension": ".py",
   "mimetype": "text/x-python",
   "name": "python",
   "nbconvert_exporter": "python",
   "pygments_lexer": "ipython3",
   "version": "3.12.1"
  }
 },
 "nbformat": 4,
 "nbformat_minor": 2
}
