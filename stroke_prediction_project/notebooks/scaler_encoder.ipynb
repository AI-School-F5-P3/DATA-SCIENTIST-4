{
 "cells": [
  {
   "cell_type": "code",
   "execution_count": 2,
   "metadata": {},
   "outputs": [
    {
     "data": {
      "text/plain": [
       "['scaler.pkl']"
      ]
     },
     "execution_count": 2,
     "metadata": {},
     "output_type": "execute_result"
    }
   ],
   "source": [
    "import pandas as pd\n",
    "from sklearn.preprocessing import StandardScaler\n",
    "import joblib\n",
    "\n",
    "# Cargar tus datos de entrenamiento\n",
    "df = pd.read_csv('partial_dataset.csv')\n",
    "\n",
    "# Separar las características numéricas que quieres escalar\n",
    "numeric_features = ['age', 'avg_glucose_level', 'bmi']\n",
    "X_train = df[numeric_features]\n",
    "\n",
    "# Crear y entrenar el scaler\n",
    "scaler = StandardScaler()\n",
    "scaler.fit(X_train)  # Entrenar el scaler con los datos de entrenamiento\n",
    "\n",
    "# Guardar el scaler a un archivo .pkl\n",
    "joblib.dump(scaler, 'scaler.pkl')\n"
   ]
  },
  {
   "cell_type": "code",
   "execution_count": 20,
   "metadata": {},
   "outputs": [
    {
     "name": "stdout",
     "output_type": "stream",
     "text": [
      "Datos antes del preprocesamiento:    gender   age  hypertension  heart_disease ever_married      work_type  \\\n",
      "0  Female  49.0             0              0          Yes        Private   \n",
      "1  Female  79.0             1              0          Yes  Self-employed   \n",
      "2    Male  81.0             0              0          Yes        Private   \n",
      "3    Male  74.0             1              1          Yes        Private   \n",
      "4  Female  69.0             0              0           No        Private   \n",
      "\n",
      "  Residence_type  avg_glucose_level   bmi   smoking_status  stroke  \n",
      "0          Urban             171.23  34.4           smokes       1  \n",
      "1          Rural             174.12  24.0     never smoked       1  \n",
      "2          Urban             186.21  29.0  formerly smoked       1  \n",
      "3          Rural              70.09  27.4     never smoked       1  \n",
      "4          Urban              94.39  22.8     never smoked       1  \n",
      "Datos después del preprocesamiento:         age  avg_glucose_level       bmi  gender_Female  gender_Male  \\\n",
      "0 -1.859391           0.401631  0.738792            1.0          0.0   \n",
      "1  0.896883           0.452412 -0.919503            1.0          0.0   \n",
      "2  1.080634           0.664850 -0.122246            0.0          1.0   \n",
      "3  0.437504          -1.375535 -0.377368            0.0          1.0   \n",
      "4 -0.021875          -0.948551 -1.110845            1.0          0.0   \n",
      "\n",
      "   ever_married_No  ever_married_Yes  work_type_Govt_job  work_type_Private  \\\n",
      "0              0.0               1.0                 0.0                1.0   \n",
      "1              0.0               1.0                 0.0                0.0   \n",
      "2              0.0               1.0                 0.0                1.0   \n",
      "3              0.0               1.0                 0.0                1.0   \n",
      "4              1.0               0.0                 0.0                1.0   \n",
      "\n",
      "   work_type_Self-employed  Residence_type_Rural  Residence_type_Urban  \\\n",
      "0                      0.0                   0.0                   1.0   \n",
      "1                      1.0                   1.0                   0.0   \n",
      "2                      0.0                   0.0                   1.0   \n",
      "3                      0.0                   1.0                   0.0   \n",
      "4                      0.0                   0.0                   1.0   \n",
      "\n",
      "   smoking_status_Unknown  smoking_status_formerly smoked  \\\n",
      "0                     0.0                             0.0   \n",
      "1                     0.0                             0.0   \n",
      "2                     0.0                             1.0   \n",
      "3                     0.0                             0.0   \n",
      "4                     0.0                             0.0   \n",
      "\n",
      "   smoking_status_never smoked  smoking_status_smokes  \n",
      "0                          0.0                    1.0  \n",
      "1                          1.0                    0.0  \n",
      "2                          0.0                    0.0  \n",
      "3                          1.0                    0.0  \n",
      "4                          1.0                    0.0  \n",
      "        age  avg_glucose_level       bmi  gender_Female  gender_Male  \\\n",
      "0 -1.859391           0.401631  0.738792            1.0          0.0   \n",
      "1  0.896883           0.452412 -0.919503            1.0          0.0   \n",
      "2  1.080634           0.664850 -0.122246            0.0          1.0   \n",
      "3  0.437504          -1.375535 -0.377368            0.0          1.0   \n",
      "4 -0.021875          -0.948551 -1.110845            1.0          0.0   \n",
      "\n",
      "   ever_married_No  ever_married_Yes  work_type_Govt_job  work_type_Private  \\\n",
      "0              0.0               1.0                 0.0                1.0   \n",
      "1              0.0               1.0                 0.0                0.0   \n",
      "2              0.0               1.0                 0.0                1.0   \n",
      "3              0.0               1.0                 0.0                1.0   \n",
      "4              1.0               0.0                 0.0                1.0   \n",
      "\n",
      "   work_type_Self-employed  Residence_type_Rural  Residence_type_Urban  \\\n",
      "0                      0.0                   0.0                   1.0   \n",
      "1                      1.0                   1.0                   0.0   \n",
      "2                      0.0                   0.0                   1.0   \n",
      "3                      0.0                   1.0                   0.0   \n",
      "4                      0.0                   0.0                   1.0   \n",
      "\n",
      "   smoking_status_Unknown  smoking_status_formerly smoked  \\\n",
      "0                     0.0                             0.0   \n",
      "1                     0.0                             0.0   \n",
      "2                     0.0                             1.0   \n",
      "3                     0.0                             0.0   \n",
      "4                     0.0                             0.0   \n",
      "\n",
      "   smoking_status_never smoked  smoking_status_smokes  \n",
      "0                          0.0                    1.0  \n",
      "1                          1.0                    0.0  \n",
      "2                          0.0                    0.0  \n",
      "3                          1.0                    0.0  \n",
      "4                          1.0                    0.0  \n"
     ]
    }
   ],
   "source": [
    "# Cargar el modelo y otros archivos de preprocesamiento\n",
    "# model = joblib.load('path/to/your_model.pkl')\n",
    "scaler = joblib.load('scaler.pkl')\n",
    "encoder = joblib.load('encoder.pkl')\n",
    "\n",
    "def preprocess_data(df):\n",
    "    print(\"Datos antes del preprocesamiento:\", df.head())  # Para depurar\n",
    "    # Escalar las características numéricas\n",
    "    numeric_features = ['age', 'avg_glucose_level', 'bmi']\n",
    "    df[numeric_features] = scaler.transform(df[numeric_features])\n",
    "    \n",
    "    # Codificar las características categóricas\n",
    "    categorical_features = ['gender', 'ever_married', 'work_type', 'Residence_type', 'smoking_status']\n",
    "    encoded_categorical = encoder.transform(df[categorical_features])\n",
    "\n",
    "    # Combinar los datos codificados\n",
    "    df_encoded = pd.DataFrame(encoded_categorical, columns=encoder.get_feature_names_out(categorical_features))\n",
    "    df_preprocessed = pd.concat([df[numeric_features], df_encoded], axis=1)\n",
    "    print(\"Datos después del preprocesamiento:\", df_preprocessed.head()) \n",
    "    \n",
    "    return df_preprocessed\n",
    "\n",
    "# Probar la función\n",
    "df = pd.read_csv('partial_dataset.csv')\n",
    "X_test = preprocess_data(df)\n",
    "print(X_test.head())\n"
   ]
  },
  {
   "cell_type": "code",
   "execution_count": 19,
   "metadata": {},
   "outputs": [
    {
     "name": "stdout",
     "output_type": "stream",
     "text": [
      "Columnas esperadas por el encoder: ['gender_Female' 'gender_Male' 'ever_married_No' 'ever_married_Yes'\n",
      " 'work_type_Govt_job' 'work_type_Private' 'work_type_Self-employed'\n",
      " 'Residence_type_Rural' 'Residence_type_Urban' 'smoking_status_Unknown'\n",
      " 'smoking_status_formerly smoked' 'smoking_status_never smoked'\n",
      " 'smoking_status_smokes']\n"
     ]
    }
   ],
   "source": [
    "print(\"Columnas esperadas por el encoder:\", encoder.get_feature_names_out())"
   ]
  },
  {
   "cell_type": "code",
   "execution_count": 12,
   "metadata": {},
   "outputs": [
    {
     "name": "stdout",
     "output_type": "stream",
     "text": [
      "Columnas en el DataFrame: Index(['gender', 'age', 'hypertension', 'heart_disease', 'ever_married',\n",
      "       'work_type', 'Residence_type', 'avg_glucose_level', 'bmi',\n",
      "       'smoking_status', 'stroke'],\n",
      "      dtype='object')\n"
     ]
    }
   ],
   "source": [
    "print(\"Columnas en el DataFrame:\", df.columns)"
   ]
  },
  {
   "cell_type": "code",
   "execution_count": 11,
   "metadata": {},
   "outputs": [
    {
     "name": "stdout",
     "output_type": "stream",
     "text": [
      "DataFrame preprocesado para predicción: Index(['age', 'avg_glucose_level', 'bmi', 'gender_Female', 'gender_Male',\n",
      "       'ever_married_No', 'ever_married_Yes', 'work_type_Govt_job',\n",
      "       'work_type_Private', 'work_type_Self-employed', 'Residence_type_Rural',\n",
      "       'Residence_type_Urban', 'smoking_status_Unknown',\n",
      "       'smoking_status_formerly smoked', 'smoking_status_never smoked',\n",
      "       'smoking_status_smokes'],\n",
      "      dtype='object')\n"
     ]
    }
   ],
   "source": [
    "print(\"DataFrame preprocesado para predicción:\", X_test.columns)"
   ]
  },
  {
   "cell_type": "code",
   "execution_count": 17,
   "metadata": {},
   "outputs": [
    {
     "name": "stdout",
     "output_type": "stream",
     "text": [
      "Columnas faltantes: set()\n"
     ]
    }
   ],
   "source": [
    "required_columns = ['gender', 'age', 'hypertension', 'heart_disease', 'ever_married', 'work_type', 'Residence_type', 'avg_glucose_level', 'bmi', 'smoking_status']\n",
    "print(\"Columnas faltantes:\", set(required_columns) - set(df.columns))"
   ]
  },
  {
   "cell_type": "code",
   "execution_count": 5,
   "metadata": {},
   "outputs": [
    {
     "data": {
      "text/plain": [
       "['encoder.pkl']"
      ]
     },
     "execution_count": 5,
     "metadata": {},
     "output_type": "execute_result"
    }
   ],
   "source": [
    "from sklearn.preprocessing import OneHotEncoder\n",
    "import joblib\n",
    "\n",
    "# Cargar tus datos de entrenamiento\n",
    "df = pd.read_csv('partial_dataset.csv')\n",
    "\n",
    "# Separar las características categóricas que quieres codificar\n",
    "categorical_features = ['gender', 'ever_married', 'work_type', 'Residence_type', 'smoking_status']\n",
    "X_train_categorical = df[categorical_features]\n",
    "\n",
    "# Crear y entrenar el encoder\n",
    "encoder = OneHotEncoder(sparse_output=False)  # sparse=False para obtener una matriz densa\n",
    "encoder.fit(X_train_categorical)  # Entrenar el encoder con los datos de entrenamiento\n",
    "\n",
    "# Guardar el encoder a un archivo .pkl\n",
    "joblib.dump(encoder, 'encoder.pkl')\n"
   ]
  }
 ],
 "metadata": {
  "kernelspec": {
   "display_name": "Kernel para proyecto de DataScientist",
   "language": "python",
   "name": "data_scientist"
  },
  "language_info": {
   "codemirror_mode": {
    "name": "ipython",
    "version": 3
   },
   "file_extension": ".py",
   "mimetype": "text/x-python",
   "name": "python",
   "nbconvert_exporter": "python",
   "pygments_lexer": "ipython3",
   "version": "3.12.1"
  }
 },
 "nbformat": 4,
 "nbformat_minor": 2
}
