{
 "cells": [
  {
   "cell_type": "code",
   "execution_count": null,
   "metadata": {},
   "outputs": [],
   "source": [
    "# Categorizar la columna 'edad' en tramos de edad\n",
    "import pandas as pd\n",
    "import os\n",
    "import sys\n",
    "\n",
    "\n",
    " \n",
    "sys.path.insert(0, os.path.join(os.path.dirname(__file__), '..', 'src'))\n",
    "\n",
    "from data_load import load_data #importo la función de carga que está en el archivo data_load.py\n"
   ]
  },
  {
   "cell_type": "code",
   "execution_count": null,
   "metadata": {},
   "outputs": [],
   "source": [
    "\n",
    "import pandas as pd\n",
    "from pandas.api.types import is_categorical_dtype\n",
    "\n",
    "# Función para detectar variables categóricas ordinales\n",
    "def detectar_variables_ordinales(file_path):\n",
    "    ordinal_columns = []\n",
    "    df = load_data(file_path)\n",
    "    ruta=\"C:/4_F5/017_track_01/DATA-SCIENTIST-4/\"\n",
    "    for column in df.columns:\n",
    "        # verificar si la columna es numérica\n",
    "        if pd.api.types.is_numeric_dtype(df[column]):\n",
    "            # obtener valores únicos\n",
    "            unique_values = df[column].unique()\n",
    "            # verificar si todos los valores están en el rango [1,5]\n",
    "            if set(unique_values).issubset({0, 1, 2, 3, 4, 5}):\n",
    "                ordinal_columns.append(column)\n",
    "\n",
    "    \n",
    "    return ordinal_columns\n",
    "\n",
    "\n",
    "\n",
    "\n",
    "variables_ordinales = detectar_variables_ordinales(df)\n",
    "print(\"Variables categóricas ordinales:\", variables_ordinales)"
   ]
  },
  {
   "cell_type": "code",
   "execution_count": null,
   "metadata": {},
   "outputs": [],
   "source": [
    "def procesado(file_path):\n",
    "\n",
    "    # Llamar a la función load_data para cargar los datos\n",
    "    df = load_data(file_path)\n",
    "    ruta=\"C:/4_F5/017_track_01/DATA-SCIENTIST-4/\"\n",
    "\n",
    "    if df is not None:\n",
    "        print('\\nInicio del procesado del dataset\\n:')\n",
    "        \n",
    "        \n",
    "        #Hago las categorías de 'Edad'\n",
    "        df['age_cat'] = pd.cut(df['age'], \n",
    "                          bins=[18, 25, 35, 45, 55, 65, 100], \n",
    "                          labels=['18-24', '25-34', '35-44', '45-54', '55-64', '65+'])\n",
    "        \n",
    "        \n",
    "        #Elimino las variables que son redundantes\n",
    "        print(df.head())\n",
    "        \n",
    "        \n",
    "        #Codificar las variables categóricas\n",
    "        # Supongamos que 'gender' es una variable categórica\n",
    "        df_encoded = pd.get_dummies(df, columns=['gender'], drop_first=True)\n",
    "        return df\n",
    "    else:\n",
    "        print(\"No se pudieron cargar los datos. Verifica la ruta del archivo y su existencia.\")"
   ]
  }
 ],
 "metadata": {
  "kernelspec": {
   "display_name": "Python 3",
   "language": "python",
   "name": "python3"
  },
  "language_info": {
   "name": "python",
   "version": "3.12.1"
  }
 },
 "nbformat": 4,
 "nbformat_minor": 2
}
